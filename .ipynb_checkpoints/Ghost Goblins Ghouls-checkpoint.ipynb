{
 "cells": [
  {
   "cell_type": "code",
   "execution_count": null,
   "metadata": {},
   "outputs": [],
   "source": [
    "# https://erlemar.github.io/\n",
    "# https://github.com/Erlemar/Erlemar.github.io/blob/master/Notebooks/GGG.ipynb"
   ]
  },
  {
   "cell_type": "code",
   "execution_count": 171,
   "metadata": {},
   "outputs": [],
   "source": [
    "import pandas as pd\n",
    "import numpy as np\n",
    "import plotly.express as px\n",
    "from plotly.subplots import make_subplots\n",
    "import plotly.graph_objects as go\n",
    "import os\n",
    "\n",
    "from sklearn.preprocessing import LabelEncoder\n",
    "from sklearn.model_selection import train_test_split, GridSearchCV, StratifiedKFold\n",
    "from sklearn.ensemble import RandomForestClassifier\n",
    "from sklearn.calibration import CalibratedClassifierCV\n",
    "from sklearn.feature_selection import SelectFromModel\n",
    "from sklearn.linear_model import LogisticRegression\n",
    "from sklearn import svm\n",
    "import xgboost as xgb\n",
    "from sklearn.ensemble import VotingClassifier\n",
    "from sklearn.naive_bayes import GaussianNB"
   ]
  },
  {
   "cell_type": "code",
   "execution_count": 144,
   "metadata": {},
   "outputs": [
    {
     "data": {
      "text/plain": [
       "['Untitled.ipynb',\n",
       " 'test.csv',\n",
       " '.jovianrc',\n",
       " 'train.csv',\n",
       " '.ipynb_checkpoints',\n",
       " 'sample_submission.csv']"
      ]
     },
     "execution_count": 144,
     "metadata": {},
     "output_type": "execute_result"
    }
   ],
   "source": [
    "os.listdir()"
   ]
  },
  {
   "cell_type": "code",
   "execution_count": 145,
   "metadata": {},
   "outputs": [],
   "source": [
    "train = pd.read_csv('train.csv')\n",
    "test = pd.read_csv('test.csv')"
   ]
  },
  {
   "cell_type": "markdown",
   "metadata": {},
   "source": [
    "# EDA"
   ]
  },
  {
   "cell_type": "code",
   "execution_count": 146,
   "metadata": {},
   "outputs": [
    {
     "data": {
      "text/plain": [
       "id               0\n",
       "bone_length      0\n",
       "rotting_flesh    0\n",
       "hair_length      0\n",
       "has_soul         0\n",
       "color            0\n",
       "type             0\n",
       "dtype: int64"
      ]
     },
     "execution_count": 146,
     "metadata": {},
     "output_type": "execute_result"
    }
   ],
   "source": [
    "# lookin' good, ghouls\n",
    "train.isna().sum()"
   ]
  },
  {
   "cell_type": "code",
   "execution_count": 147,
   "metadata": {},
   "outputs": [
    {
     "name": "stdout",
     "output_type": "stream",
     "text": [
      "<class 'pandas.core.frame.DataFrame'>\n",
      "RangeIndex: 371 entries, 0 to 370\n",
      "Data columns (total 7 columns):\n",
      " #   Column         Non-Null Count  Dtype  \n",
      "---  ------         --------------  -----  \n",
      " 0   id             371 non-null    int64  \n",
      " 1   bone_length    371 non-null    float64\n",
      " 2   rotting_flesh  371 non-null    float64\n",
      " 3   hair_length    371 non-null    float64\n",
      " 4   has_soul       371 non-null    float64\n",
      " 5   color          371 non-null    object \n",
      " 6   type           371 non-null    object \n",
      "dtypes: float64(4), int64(1), object(2)\n",
      "memory usage: 20.4+ KB\n"
     ]
    }
   ],
   "source": [
    "train.info()"
   ]
  },
  {
   "cell_type": "code",
   "execution_count": 148,
   "metadata": {
    "scrolled": true
   },
   "outputs": [
    {
     "data": {
      "text/html": [
       "<div>\n",
       "<style scoped>\n",
       "    .dataframe tbody tr th:only-of-type {\n",
       "        vertical-align: middle;\n",
       "    }\n",
       "\n",
       "    .dataframe tbody tr th {\n",
       "        vertical-align: top;\n",
       "    }\n",
       "\n",
       "    .dataframe thead th {\n",
       "        text-align: right;\n",
       "    }\n",
       "</style>\n",
       "<table border=\"1\" class=\"dataframe\">\n",
       "  <thead>\n",
       "    <tr style=\"text-align: right;\">\n",
       "      <th></th>\n",
       "      <th>id</th>\n",
       "      <th>bone_length</th>\n",
       "      <th>rotting_flesh</th>\n",
       "      <th>hair_length</th>\n",
       "      <th>has_soul</th>\n",
       "      <th>color</th>\n",
       "      <th>type</th>\n",
       "    </tr>\n",
       "  </thead>\n",
       "  <tbody>\n",
       "    <tr>\n",
       "      <th>count</th>\n",
       "      <td>371.000000</td>\n",
       "      <td>371.000000</td>\n",
       "      <td>371.000000</td>\n",
       "      <td>371.000000</td>\n",
       "      <td>371.000000</td>\n",
       "      <td>371</td>\n",
       "      <td>371</td>\n",
       "    </tr>\n",
       "    <tr>\n",
       "      <th>unique</th>\n",
       "      <td>NaN</td>\n",
       "      <td>NaN</td>\n",
       "      <td>NaN</td>\n",
       "      <td>NaN</td>\n",
       "      <td>NaN</td>\n",
       "      <td>6</td>\n",
       "      <td>3</td>\n",
       "    </tr>\n",
       "    <tr>\n",
       "      <th>top</th>\n",
       "      <td>NaN</td>\n",
       "      <td>NaN</td>\n",
       "      <td>NaN</td>\n",
       "      <td>NaN</td>\n",
       "      <td>NaN</td>\n",
       "      <td>white</td>\n",
       "      <td>Ghoul</td>\n",
       "    </tr>\n",
       "    <tr>\n",
       "      <th>freq</th>\n",
       "      <td>NaN</td>\n",
       "      <td>NaN</td>\n",
       "      <td>NaN</td>\n",
       "      <td>NaN</td>\n",
       "      <td>NaN</td>\n",
       "      <td>137</td>\n",
       "      <td>129</td>\n",
       "    </tr>\n",
       "    <tr>\n",
       "      <th>mean</th>\n",
       "      <td>443.676550</td>\n",
       "      <td>0.434160</td>\n",
       "      <td>0.506848</td>\n",
       "      <td>0.529114</td>\n",
       "      <td>0.471392</td>\n",
       "      <td>NaN</td>\n",
       "      <td>NaN</td>\n",
       "    </tr>\n",
       "    <tr>\n",
       "      <th>std</th>\n",
       "      <td>263.222489</td>\n",
       "      <td>0.132833</td>\n",
       "      <td>0.146358</td>\n",
       "      <td>0.169902</td>\n",
       "      <td>0.176129</td>\n",
       "      <td>NaN</td>\n",
       "      <td>NaN</td>\n",
       "    </tr>\n",
       "    <tr>\n",
       "      <th>min</th>\n",
       "      <td>0.000000</td>\n",
       "      <td>0.061032</td>\n",
       "      <td>0.095687</td>\n",
       "      <td>0.134600</td>\n",
       "      <td>0.009402</td>\n",
       "      <td>NaN</td>\n",
       "      <td>NaN</td>\n",
       "    </tr>\n",
       "    <tr>\n",
       "      <th>25%</th>\n",
       "      <td>205.500000</td>\n",
       "      <td>0.340006</td>\n",
       "      <td>0.414812</td>\n",
       "      <td>0.407428</td>\n",
       "      <td>0.348002</td>\n",
       "      <td>NaN</td>\n",
       "      <td>NaN</td>\n",
       "    </tr>\n",
       "    <tr>\n",
       "      <th>50%</th>\n",
       "      <td>458.000000</td>\n",
       "      <td>0.434891</td>\n",
       "      <td>0.501552</td>\n",
       "      <td>0.538642</td>\n",
       "      <td>0.466372</td>\n",
       "      <td>NaN</td>\n",
       "      <td>NaN</td>\n",
       "    </tr>\n",
       "    <tr>\n",
       "      <th>75%</th>\n",
       "      <td>678.500000</td>\n",
       "      <td>0.517223</td>\n",
       "      <td>0.603977</td>\n",
       "      <td>0.647244</td>\n",
       "      <td>0.600610</td>\n",
       "      <td>NaN</td>\n",
       "      <td>NaN</td>\n",
       "    </tr>\n",
       "    <tr>\n",
       "      <th>max</th>\n",
       "      <td>897.000000</td>\n",
       "      <td>0.817001</td>\n",
       "      <td>0.932466</td>\n",
       "      <td>1.000000</td>\n",
       "      <td>0.935721</td>\n",
       "      <td>NaN</td>\n",
       "      <td>NaN</td>\n",
       "    </tr>\n",
       "  </tbody>\n",
       "</table>\n",
       "</div>"
      ],
      "text/plain": [
       "                id  bone_length  rotting_flesh  hair_length    has_soul  \\\n",
       "count   371.000000   371.000000     371.000000   371.000000  371.000000   \n",
       "unique         NaN          NaN            NaN          NaN         NaN   \n",
       "top            NaN          NaN            NaN          NaN         NaN   \n",
       "freq           NaN          NaN            NaN          NaN         NaN   \n",
       "mean    443.676550     0.434160       0.506848     0.529114    0.471392   \n",
       "std     263.222489     0.132833       0.146358     0.169902    0.176129   \n",
       "min       0.000000     0.061032       0.095687     0.134600    0.009402   \n",
       "25%     205.500000     0.340006       0.414812     0.407428    0.348002   \n",
       "50%     458.000000     0.434891       0.501552     0.538642    0.466372   \n",
       "75%     678.500000     0.517223       0.603977     0.647244    0.600610   \n",
       "max     897.000000     0.817001       0.932466     1.000000    0.935721   \n",
       "\n",
       "        color   type  \n",
       "count     371    371  \n",
       "unique      6      3  \n",
       "top     white  Ghoul  \n",
       "freq      137    129  \n",
       "mean      NaN    NaN  \n",
       "std       NaN    NaN  \n",
       "min       NaN    NaN  \n",
       "25%       NaN    NaN  \n",
       "50%       NaN    NaN  \n",
       "75%       NaN    NaN  \n",
       "max       NaN    NaN  "
      ]
     },
     "execution_count": 148,
     "metadata": {},
     "output_type": "execute_result"
    }
   ],
   "source": [
    "train.describe(include='all')"
   ]
  },
  {
   "cell_type": "code",
   "execution_count": 149,
   "metadata": {},
   "outputs": [
    {
     "data": {
      "text/html": [
       "<div>\n",
       "<style scoped>\n",
       "    .dataframe tbody tr th:only-of-type {\n",
       "        vertical-align: middle;\n",
       "    }\n",
       "\n",
       "    .dataframe tbody tr th {\n",
       "        vertical-align: top;\n",
       "    }\n",
       "\n",
       "    .dataframe thead th {\n",
       "        text-align: right;\n",
       "    }\n",
       "</style>\n",
       "<table border=\"1\" class=\"dataframe\">\n",
       "  <thead>\n",
       "    <tr style=\"text-align: right;\">\n",
       "      <th></th>\n",
       "      <th>id</th>\n",
       "      <th>bone_length</th>\n",
       "      <th>rotting_flesh</th>\n",
       "      <th>hair_length</th>\n",
       "      <th>has_soul</th>\n",
       "      <th>color</th>\n",
       "      <th>type</th>\n",
       "    </tr>\n",
       "  </thead>\n",
       "  <tbody>\n",
       "    <tr>\n",
       "      <th>0</th>\n",
       "      <td>0</td>\n",
       "      <td>0.354512</td>\n",
       "      <td>0.350839</td>\n",
       "      <td>0.465761</td>\n",
       "      <td>0.781142</td>\n",
       "      <td>clear</td>\n",
       "      <td>Ghoul</td>\n",
       "    </tr>\n",
       "    <tr>\n",
       "      <th>1</th>\n",
       "      <td>1</td>\n",
       "      <td>0.575560</td>\n",
       "      <td>0.425868</td>\n",
       "      <td>0.531401</td>\n",
       "      <td>0.439899</td>\n",
       "      <td>green</td>\n",
       "      <td>Goblin</td>\n",
       "    </tr>\n",
       "    <tr>\n",
       "      <th>2</th>\n",
       "      <td>2</td>\n",
       "      <td>0.467875</td>\n",
       "      <td>0.354330</td>\n",
       "      <td>0.811616</td>\n",
       "      <td>0.791225</td>\n",
       "      <td>black</td>\n",
       "      <td>Ghoul</td>\n",
       "    </tr>\n",
       "    <tr>\n",
       "      <th>3</th>\n",
       "      <td>4</td>\n",
       "      <td>0.776652</td>\n",
       "      <td>0.508723</td>\n",
       "      <td>0.636766</td>\n",
       "      <td>0.884464</td>\n",
       "      <td>black</td>\n",
       "      <td>Ghoul</td>\n",
       "    </tr>\n",
       "    <tr>\n",
       "      <th>4</th>\n",
       "      <td>5</td>\n",
       "      <td>0.566117</td>\n",
       "      <td>0.875862</td>\n",
       "      <td>0.418594</td>\n",
       "      <td>0.636438</td>\n",
       "      <td>green</td>\n",
       "      <td>Ghost</td>\n",
       "    </tr>\n",
       "  </tbody>\n",
       "</table>\n",
       "</div>"
      ],
      "text/plain": [
       "   id  bone_length  rotting_flesh  hair_length  has_soul  color    type\n",
       "0   0     0.354512       0.350839     0.465761  0.781142  clear   Ghoul\n",
       "1   1     0.575560       0.425868     0.531401  0.439899  green  Goblin\n",
       "2   2     0.467875       0.354330     0.811616  0.791225  black   Ghoul\n",
       "3   4     0.776652       0.508723     0.636766  0.884464  black   Ghoul\n",
       "4   5     0.566117       0.875862     0.418594  0.636438  green   Ghost"
      ]
     },
     "execution_count": 149,
     "metadata": {},
     "output_type": "execute_result"
    }
   ],
   "source": [
    "train.head()"
   ]
  },
  {
   "cell_type": "code",
   "execution_count": 150,
   "metadata": {},
   "outputs": [
    {
     "data": {
      "application/vnd.plotly.v1+json": {
       "config": {
        "plotlyServerURL": "https://plot.ly"
       },
       "data": [
        {
         "type": "bar",
         "x": [
          "Ghost",
          "Ghoul",
          "Goblin"
         ],
         "xaxis": "x",
         "y": [
          0.34746599737280914,
          0.5171592301582236,
          0.42965028016685447
         ],
         "yaxis": "y"
        },
        {
         "type": "bar",
         "x": [
          "Ghost",
          "Ghoul",
          "Goblin"
         ],
         "xaxis": "x2",
         "y": [
          0.5937587301462265,
          0.4905145976536957,
          0.4423570992673678
         ],
         "yaxis": "y2"
        },
        {
         "type": "bar",
         "x": [
          "Ghost",
          "Ghoul",
          "Goblin"
         ],
         "xaxis": "x3",
         "y": [
          0.37318644762047376,
          0.6555501208481531,
          0.544581032409372
         ],
         "yaxis": "y3"
        },
        {
         "type": "bar",
         "x": [
          "Ghost",
          "Ghoul",
          "Goblin"
         ],
         "xaxis": "x4",
         "y": [
          0.3200231715867751,
          0.6016344828587515,
          0.4786630766321585
         ],
         "yaxis": "y4"
        }
       ],
       "layout": {
        "annotations": [
         {
          "font": {
           "size": 16
          },
          "showarrow": false,
          "text": "bone_length",
          "x": 0.10625,
          "xanchor": "center",
          "xref": "paper",
          "y": 1,
          "yanchor": "bottom",
          "yref": "paper"
         },
         {
          "font": {
           "size": 16
          },
          "showarrow": false,
          "text": "rotting_flesh",
          "x": 0.36875,
          "xanchor": "center",
          "xref": "paper",
          "y": 1,
          "yanchor": "bottom",
          "yref": "paper"
         },
         {
          "font": {
           "size": 16
          },
          "showarrow": false,
          "text": "hair_length",
          "x": 0.6312500000000001,
          "xanchor": "center",
          "xref": "paper",
          "y": 1,
          "yanchor": "bottom",
          "yref": "paper"
         },
         {
          "font": {
           "size": 16
          },
          "showarrow": false,
          "text": "has_soul",
          "x": 0.89375,
          "xanchor": "center",
          "xref": "paper",
          "y": 1,
          "yanchor": "bottom",
          "yref": "paper"
         }
        ],
        "showlegend": false,
        "template": {
         "data": {
          "bar": [
           {
            "error_x": {
             "color": "#2a3f5f"
            },
            "error_y": {
             "color": "#2a3f5f"
            },
            "marker": {
             "line": {
              "color": "#E5ECF6",
              "width": 0.5
             },
             "pattern": {
              "fillmode": "overlay",
              "size": 10,
              "solidity": 0.2
             }
            },
            "type": "bar"
           }
          ],
          "barpolar": [
           {
            "marker": {
             "line": {
              "color": "#E5ECF6",
              "width": 0.5
             },
             "pattern": {
              "fillmode": "overlay",
              "size": 10,
              "solidity": 0.2
             }
            },
            "type": "barpolar"
           }
          ],
          "carpet": [
           {
            "aaxis": {
             "endlinecolor": "#2a3f5f",
             "gridcolor": "white",
             "linecolor": "white",
             "minorgridcolor": "white",
             "startlinecolor": "#2a3f5f"
            },
            "baxis": {
             "endlinecolor": "#2a3f5f",
             "gridcolor": "white",
             "linecolor": "white",
             "minorgridcolor": "white",
             "startlinecolor": "#2a3f5f"
            },
            "type": "carpet"
           }
          ],
          "choropleth": [
           {
            "colorbar": {
             "outlinewidth": 0,
             "ticks": ""
            },
            "type": "choropleth"
           }
          ],
          "contour": [
           {
            "colorbar": {
             "outlinewidth": 0,
             "ticks": ""
            },
            "colorscale": [
             [
              0,
              "#0d0887"
             ],
             [
              0.1111111111111111,
              "#46039f"
             ],
             [
              0.2222222222222222,
              "#7201a8"
             ],
             [
              0.3333333333333333,
              "#9c179e"
             ],
             [
              0.4444444444444444,
              "#bd3786"
             ],
             [
              0.5555555555555556,
              "#d8576b"
             ],
             [
              0.6666666666666666,
              "#ed7953"
             ],
             [
              0.7777777777777778,
              "#fb9f3a"
             ],
             [
              0.8888888888888888,
              "#fdca26"
             ],
             [
              1,
              "#f0f921"
             ]
            ],
            "type": "contour"
           }
          ],
          "contourcarpet": [
           {
            "colorbar": {
             "outlinewidth": 0,
             "ticks": ""
            },
            "type": "contourcarpet"
           }
          ],
          "heatmap": [
           {
            "colorbar": {
             "outlinewidth": 0,
             "ticks": ""
            },
            "colorscale": [
             [
              0,
              "#0d0887"
             ],
             [
              0.1111111111111111,
              "#46039f"
             ],
             [
              0.2222222222222222,
              "#7201a8"
             ],
             [
              0.3333333333333333,
              "#9c179e"
             ],
             [
              0.4444444444444444,
              "#bd3786"
             ],
             [
              0.5555555555555556,
              "#d8576b"
             ],
             [
              0.6666666666666666,
              "#ed7953"
             ],
             [
              0.7777777777777778,
              "#fb9f3a"
             ],
             [
              0.8888888888888888,
              "#fdca26"
             ],
             [
              1,
              "#f0f921"
             ]
            ],
            "type": "heatmap"
           }
          ],
          "heatmapgl": [
           {
            "colorbar": {
             "outlinewidth": 0,
             "ticks": ""
            },
            "colorscale": [
             [
              0,
              "#0d0887"
             ],
             [
              0.1111111111111111,
              "#46039f"
             ],
             [
              0.2222222222222222,
              "#7201a8"
             ],
             [
              0.3333333333333333,
              "#9c179e"
             ],
             [
              0.4444444444444444,
              "#bd3786"
             ],
             [
              0.5555555555555556,
              "#d8576b"
             ],
             [
              0.6666666666666666,
              "#ed7953"
             ],
             [
              0.7777777777777778,
              "#fb9f3a"
             ],
             [
              0.8888888888888888,
              "#fdca26"
             ],
             [
              1,
              "#f0f921"
             ]
            ],
            "type": "heatmapgl"
           }
          ],
          "histogram": [
           {
            "marker": {
             "pattern": {
              "fillmode": "overlay",
              "size": 10,
              "solidity": 0.2
             }
            },
            "type": "histogram"
           }
          ],
          "histogram2d": [
           {
            "colorbar": {
             "outlinewidth": 0,
             "ticks": ""
            },
            "colorscale": [
             [
              0,
              "#0d0887"
             ],
             [
              0.1111111111111111,
              "#46039f"
             ],
             [
              0.2222222222222222,
              "#7201a8"
             ],
             [
              0.3333333333333333,
              "#9c179e"
             ],
             [
              0.4444444444444444,
              "#bd3786"
             ],
             [
              0.5555555555555556,
              "#d8576b"
             ],
             [
              0.6666666666666666,
              "#ed7953"
             ],
             [
              0.7777777777777778,
              "#fb9f3a"
             ],
             [
              0.8888888888888888,
              "#fdca26"
             ],
             [
              1,
              "#f0f921"
             ]
            ],
            "type": "histogram2d"
           }
          ],
          "histogram2dcontour": [
           {
            "colorbar": {
             "outlinewidth": 0,
             "ticks": ""
            },
            "colorscale": [
             [
              0,
              "#0d0887"
             ],
             [
              0.1111111111111111,
              "#46039f"
             ],
             [
              0.2222222222222222,
              "#7201a8"
             ],
             [
              0.3333333333333333,
              "#9c179e"
             ],
             [
              0.4444444444444444,
              "#bd3786"
             ],
             [
              0.5555555555555556,
              "#d8576b"
             ],
             [
              0.6666666666666666,
              "#ed7953"
             ],
             [
              0.7777777777777778,
              "#fb9f3a"
             ],
             [
              0.8888888888888888,
              "#fdca26"
             ],
             [
              1,
              "#f0f921"
             ]
            ],
            "type": "histogram2dcontour"
           }
          ],
          "mesh3d": [
           {
            "colorbar": {
             "outlinewidth": 0,
             "ticks": ""
            },
            "type": "mesh3d"
           }
          ],
          "parcoords": [
           {
            "line": {
             "colorbar": {
              "outlinewidth": 0,
              "ticks": ""
             }
            },
            "type": "parcoords"
           }
          ],
          "pie": [
           {
            "automargin": true,
            "type": "pie"
           }
          ],
          "scatter": [
           {
            "marker": {
             "colorbar": {
              "outlinewidth": 0,
              "ticks": ""
             }
            },
            "type": "scatter"
           }
          ],
          "scatter3d": [
           {
            "line": {
             "colorbar": {
              "outlinewidth": 0,
              "ticks": ""
             }
            },
            "marker": {
             "colorbar": {
              "outlinewidth": 0,
              "ticks": ""
             }
            },
            "type": "scatter3d"
           }
          ],
          "scattercarpet": [
           {
            "marker": {
             "colorbar": {
              "outlinewidth": 0,
              "ticks": ""
             }
            },
            "type": "scattercarpet"
           }
          ],
          "scattergeo": [
           {
            "marker": {
             "colorbar": {
              "outlinewidth": 0,
              "ticks": ""
             }
            },
            "type": "scattergeo"
           }
          ],
          "scattergl": [
           {
            "marker": {
             "colorbar": {
              "outlinewidth": 0,
              "ticks": ""
             }
            },
            "type": "scattergl"
           }
          ],
          "scattermapbox": [
           {
            "marker": {
             "colorbar": {
              "outlinewidth": 0,
              "ticks": ""
             }
            },
            "type": "scattermapbox"
           }
          ],
          "scatterpolar": [
           {
            "marker": {
             "colorbar": {
              "outlinewidth": 0,
              "ticks": ""
             }
            },
            "type": "scatterpolar"
           }
          ],
          "scatterpolargl": [
           {
            "marker": {
             "colorbar": {
              "outlinewidth": 0,
              "ticks": ""
             }
            },
            "type": "scatterpolargl"
           }
          ],
          "scatterternary": [
           {
            "marker": {
             "colorbar": {
              "outlinewidth": 0,
              "ticks": ""
             }
            },
            "type": "scatterternary"
           }
          ],
          "surface": [
           {
            "colorbar": {
             "outlinewidth": 0,
             "ticks": ""
            },
            "colorscale": [
             [
              0,
              "#0d0887"
             ],
             [
              0.1111111111111111,
              "#46039f"
             ],
             [
              0.2222222222222222,
              "#7201a8"
             ],
             [
              0.3333333333333333,
              "#9c179e"
             ],
             [
              0.4444444444444444,
              "#bd3786"
             ],
             [
              0.5555555555555556,
              "#d8576b"
             ],
             [
              0.6666666666666666,
              "#ed7953"
             ],
             [
              0.7777777777777778,
              "#fb9f3a"
             ],
             [
              0.8888888888888888,
              "#fdca26"
             ],
             [
              1,
              "#f0f921"
             ]
            ],
            "type": "surface"
           }
          ],
          "table": [
           {
            "cells": {
             "fill": {
              "color": "#EBF0F8"
             },
             "line": {
              "color": "white"
             }
            },
            "header": {
             "fill": {
              "color": "#C8D4E3"
             },
             "line": {
              "color": "white"
             }
            },
            "type": "table"
           }
          ]
         },
         "layout": {
          "annotationdefaults": {
           "arrowcolor": "#2a3f5f",
           "arrowhead": 0,
           "arrowwidth": 1
          },
          "autotypenumbers": "strict",
          "coloraxis": {
           "colorbar": {
            "outlinewidth": 0,
            "ticks": ""
           }
          },
          "colorscale": {
           "diverging": [
            [
             0,
             "#8e0152"
            ],
            [
             0.1,
             "#c51b7d"
            ],
            [
             0.2,
             "#de77ae"
            ],
            [
             0.3,
             "#f1b6da"
            ],
            [
             0.4,
             "#fde0ef"
            ],
            [
             0.5,
             "#f7f7f7"
            ],
            [
             0.6,
             "#e6f5d0"
            ],
            [
             0.7,
             "#b8e186"
            ],
            [
             0.8,
             "#7fbc41"
            ],
            [
             0.9,
             "#4d9221"
            ],
            [
             1,
             "#276419"
            ]
           ],
           "sequential": [
            [
             0,
             "#0d0887"
            ],
            [
             0.1111111111111111,
             "#46039f"
            ],
            [
             0.2222222222222222,
             "#7201a8"
            ],
            [
             0.3333333333333333,
             "#9c179e"
            ],
            [
             0.4444444444444444,
             "#bd3786"
            ],
            [
             0.5555555555555556,
             "#d8576b"
            ],
            [
             0.6666666666666666,
             "#ed7953"
            ],
            [
             0.7777777777777778,
             "#fb9f3a"
            ],
            [
             0.8888888888888888,
             "#fdca26"
            ],
            [
             1,
             "#f0f921"
            ]
           ],
           "sequentialminus": [
            [
             0,
             "#0d0887"
            ],
            [
             0.1111111111111111,
             "#46039f"
            ],
            [
             0.2222222222222222,
             "#7201a8"
            ],
            [
             0.3333333333333333,
             "#9c179e"
            ],
            [
             0.4444444444444444,
             "#bd3786"
            ],
            [
             0.5555555555555556,
             "#d8576b"
            ],
            [
             0.6666666666666666,
             "#ed7953"
            ],
            [
             0.7777777777777778,
             "#fb9f3a"
            ],
            [
             0.8888888888888888,
             "#fdca26"
            ],
            [
             1,
             "#f0f921"
            ]
           ]
          },
          "colorway": [
           "#636efa",
           "#EF553B",
           "#00cc96",
           "#ab63fa",
           "#FFA15A",
           "#19d3f3",
           "#FF6692",
           "#B6E880",
           "#FF97FF",
           "#FECB52"
          ],
          "font": {
           "color": "#2a3f5f"
          },
          "geo": {
           "bgcolor": "white",
           "lakecolor": "white",
           "landcolor": "#E5ECF6",
           "showlakes": true,
           "showland": true,
           "subunitcolor": "white"
          },
          "hoverlabel": {
           "align": "left"
          },
          "hovermode": "closest",
          "mapbox": {
           "style": "light"
          },
          "paper_bgcolor": "white",
          "plot_bgcolor": "#E5ECF6",
          "polar": {
           "angularaxis": {
            "gridcolor": "white",
            "linecolor": "white",
            "ticks": ""
           },
           "bgcolor": "#E5ECF6",
           "radialaxis": {
            "gridcolor": "white",
            "linecolor": "white",
            "ticks": ""
           }
          },
          "scene": {
           "xaxis": {
            "backgroundcolor": "#E5ECF6",
            "gridcolor": "white",
            "gridwidth": 2,
            "linecolor": "white",
            "showbackground": true,
            "ticks": "",
            "zerolinecolor": "white"
           },
           "yaxis": {
            "backgroundcolor": "#E5ECF6",
            "gridcolor": "white",
            "gridwidth": 2,
            "linecolor": "white",
            "showbackground": true,
            "ticks": "",
            "zerolinecolor": "white"
           },
           "zaxis": {
            "backgroundcolor": "#E5ECF6",
            "gridcolor": "white",
            "gridwidth": 2,
            "linecolor": "white",
            "showbackground": true,
            "ticks": "",
            "zerolinecolor": "white"
           }
          },
          "shapedefaults": {
           "line": {
            "color": "#2a3f5f"
           }
          },
          "ternary": {
           "aaxis": {
            "gridcolor": "white",
            "linecolor": "white",
            "ticks": ""
           },
           "baxis": {
            "gridcolor": "white",
            "linecolor": "white",
            "ticks": ""
           },
           "bgcolor": "#E5ECF6",
           "caxis": {
            "gridcolor": "white",
            "linecolor": "white",
            "ticks": ""
           }
          },
          "title": {
           "x": 0.05
          },
          "xaxis": {
           "automargin": true,
           "gridcolor": "white",
           "linecolor": "white",
           "ticks": "",
           "title": {
            "standoff": 15
           },
           "zerolinecolor": "white",
           "zerolinewidth": 2
          },
          "yaxis": {
           "automargin": true,
           "gridcolor": "white",
           "linecolor": "white",
           "ticks": "",
           "title": {
            "standoff": 15
           },
           "zerolinecolor": "white",
           "zerolinewidth": 2
          }
         }
        },
        "title": {
         "text": "Numerical Columns per Type"
        },
        "xaxis": {
         "anchor": "y",
         "domain": [
          0,
          0.2125
         ]
        },
        "xaxis2": {
         "anchor": "y2",
         "domain": [
          0.2625,
          0.475
         ]
        },
        "xaxis3": {
         "anchor": "y3",
         "domain": [
          0.525,
          0.7375
         ]
        },
        "xaxis4": {
         "anchor": "y4",
         "domain": [
          0.7875,
          1
         ]
        },
        "yaxis": {
         "anchor": "x",
         "domain": [
          0,
          1
         ]
        },
        "yaxis2": {
         "anchor": "x2",
         "domain": [
          0,
          1
         ],
         "matches": "y",
         "showticklabels": false
        },
        "yaxis3": {
         "anchor": "x3",
         "domain": [
          0,
          1
         ],
         "matches": "y",
         "showticklabels": false
        },
        "yaxis4": {
         "anchor": "x4",
         "domain": [
          0,
          1
         ],
         "matches": "y",
         "showticklabels": false
        }
       }
      },
      "text/html": [
       "<div>                            <div id=\"cadac853-1c2b-4a5f-9d24-3bc00aab989c\" class=\"plotly-graph-div\" style=\"height:525px; width:100%;\"></div>            <script type=\"text/javascript\">                require([\"plotly\"], function(Plotly) {                    window.PLOTLYENV=window.PLOTLYENV || {};                                    if (document.getElementById(\"cadac853-1c2b-4a5f-9d24-3bc00aab989c\")) {                    Plotly.newPlot(                        \"cadac853-1c2b-4a5f-9d24-3bc00aab989c\",                        [{\"type\":\"bar\",\"x\":[\"Ghost\",\"Ghoul\",\"Goblin\"],\"xaxis\":\"x\",\"y\":[0.34746599737280914,0.5171592301582236,0.42965028016685447],\"yaxis\":\"y\"},{\"type\":\"bar\",\"x\":[\"Ghost\",\"Ghoul\",\"Goblin\"],\"xaxis\":\"x2\",\"y\":[0.5937587301462265,0.4905145976536957,0.4423570992673678],\"yaxis\":\"y2\"},{\"type\":\"bar\",\"x\":[\"Ghost\",\"Ghoul\",\"Goblin\"],\"xaxis\":\"x3\",\"y\":[0.37318644762047376,0.6555501208481531,0.544581032409372],\"yaxis\":\"y3\"},{\"type\":\"bar\",\"x\":[\"Ghost\",\"Ghoul\",\"Goblin\"],\"xaxis\":\"x4\",\"y\":[0.3200231715867751,0.6016344828587515,0.4786630766321585],\"yaxis\":\"y4\"}],                        {\"annotations\":[{\"font\":{\"size\":16},\"showarrow\":false,\"text\":\"bone_length\",\"x\":0.10625,\"xanchor\":\"center\",\"xref\":\"paper\",\"y\":1.0,\"yanchor\":\"bottom\",\"yref\":\"paper\"},{\"font\":{\"size\":16},\"showarrow\":false,\"text\":\"rotting_flesh\",\"x\":0.36875,\"xanchor\":\"center\",\"xref\":\"paper\",\"y\":1.0,\"yanchor\":\"bottom\",\"yref\":\"paper\"},{\"font\":{\"size\":16},\"showarrow\":false,\"text\":\"hair_length\",\"x\":0.6312500000000001,\"xanchor\":\"center\",\"xref\":\"paper\",\"y\":1.0,\"yanchor\":\"bottom\",\"yref\":\"paper\"},{\"font\":{\"size\":16},\"showarrow\":false,\"text\":\"has_soul\",\"x\":0.89375,\"xanchor\":\"center\",\"xref\":\"paper\",\"y\":1.0,\"yanchor\":\"bottom\",\"yref\":\"paper\"}],\"showlegend\":false,\"template\":{\"data\":{\"bar\":[{\"error_x\":{\"color\":\"#2a3f5f\"},\"error_y\":{\"color\":\"#2a3f5f\"},\"marker\":{\"line\":{\"color\":\"#E5ECF6\",\"width\":0.5},\"pattern\":{\"fillmode\":\"overlay\",\"size\":10,\"solidity\":0.2}},\"type\":\"bar\"}],\"barpolar\":[{\"marker\":{\"line\":{\"color\":\"#E5ECF6\",\"width\":0.5},\"pattern\":{\"fillmode\":\"overlay\",\"size\":10,\"solidity\":0.2}},\"type\":\"barpolar\"}],\"carpet\":[{\"aaxis\":{\"endlinecolor\":\"#2a3f5f\",\"gridcolor\":\"white\",\"linecolor\":\"white\",\"minorgridcolor\":\"white\",\"startlinecolor\":\"#2a3f5f\"},\"baxis\":{\"endlinecolor\":\"#2a3f5f\",\"gridcolor\":\"white\",\"linecolor\":\"white\",\"minorgridcolor\":\"white\",\"startlinecolor\":\"#2a3f5f\"},\"type\":\"carpet\"}],\"choropleth\":[{\"colorbar\":{\"outlinewidth\":0,\"ticks\":\"\"},\"type\":\"choropleth\"}],\"contour\":[{\"colorbar\":{\"outlinewidth\":0,\"ticks\":\"\"},\"colorscale\":[[0.0,\"#0d0887\"],[0.1111111111111111,\"#46039f\"],[0.2222222222222222,\"#7201a8\"],[0.3333333333333333,\"#9c179e\"],[0.4444444444444444,\"#bd3786\"],[0.5555555555555556,\"#d8576b\"],[0.6666666666666666,\"#ed7953\"],[0.7777777777777778,\"#fb9f3a\"],[0.8888888888888888,\"#fdca26\"],[1.0,\"#f0f921\"]],\"type\":\"contour\"}],\"contourcarpet\":[{\"colorbar\":{\"outlinewidth\":0,\"ticks\":\"\"},\"type\":\"contourcarpet\"}],\"heatmap\":[{\"colorbar\":{\"outlinewidth\":0,\"ticks\":\"\"},\"colorscale\":[[0.0,\"#0d0887\"],[0.1111111111111111,\"#46039f\"],[0.2222222222222222,\"#7201a8\"],[0.3333333333333333,\"#9c179e\"],[0.4444444444444444,\"#bd3786\"],[0.5555555555555556,\"#d8576b\"],[0.6666666666666666,\"#ed7953\"],[0.7777777777777778,\"#fb9f3a\"],[0.8888888888888888,\"#fdca26\"],[1.0,\"#f0f921\"]],\"type\":\"heatmap\"}],\"heatmapgl\":[{\"colorbar\":{\"outlinewidth\":0,\"ticks\":\"\"},\"colorscale\":[[0.0,\"#0d0887\"],[0.1111111111111111,\"#46039f\"],[0.2222222222222222,\"#7201a8\"],[0.3333333333333333,\"#9c179e\"],[0.4444444444444444,\"#bd3786\"],[0.5555555555555556,\"#d8576b\"],[0.6666666666666666,\"#ed7953\"],[0.7777777777777778,\"#fb9f3a\"],[0.8888888888888888,\"#fdca26\"],[1.0,\"#f0f921\"]],\"type\":\"heatmapgl\"}],\"histogram\":[{\"marker\":{\"pattern\":{\"fillmode\":\"overlay\",\"size\":10,\"solidity\":0.2}},\"type\":\"histogram\"}],\"histogram2d\":[{\"colorbar\":{\"outlinewidth\":0,\"ticks\":\"\"},\"colorscale\":[[0.0,\"#0d0887\"],[0.1111111111111111,\"#46039f\"],[0.2222222222222222,\"#7201a8\"],[0.3333333333333333,\"#9c179e\"],[0.4444444444444444,\"#bd3786\"],[0.5555555555555556,\"#d8576b\"],[0.6666666666666666,\"#ed7953\"],[0.7777777777777778,\"#fb9f3a\"],[0.8888888888888888,\"#fdca26\"],[1.0,\"#f0f921\"]],\"type\":\"histogram2d\"}],\"histogram2dcontour\":[{\"colorbar\":{\"outlinewidth\":0,\"ticks\":\"\"},\"colorscale\":[[0.0,\"#0d0887\"],[0.1111111111111111,\"#46039f\"],[0.2222222222222222,\"#7201a8\"],[0.3333333333333333,\"#9c179e\"],[0.4444444444444444,\"#bd3786\"],[0.5555555555555556,\"#d8576b\"],[0.6666666666666666,\"#ed7953\"],[0.7777777777777778,\"#fb9f3a\"],[0.8888888888888888,\"#fdca26\"],[1.0,\"#f0f921\"]],\"type\":\"histogram2dcontour\"}],\"mesh3d\":[{\"colorbar\":{\"outlinewidth\":0,\"ticks\":\"\"},\"type\":\"mesh3d\"}],\"parcoords\":[{\"line\":{\"colorbar\":{\"outlinewidth\":0,\"ticks\":\"\"}},\"type\":\"parcoords\"}],\"pie\":[{\"automargin\":true,\"type\":\"pie\"}],\"scatter\":[{\"marker\":{\"colorbar\":{\"outlinewidth\":0,\"ticks\":\"\"}},\"type\":\"scatter\"}],\"scatter3d\":[{\"line\":{\"colorbar\":{\"outlinewidth\":0,\"ticks\":\"\"}},\"marker\":{\"colorbar\":{\"outlinewidth\":0,\"ticks\":\"\"}},\"type\":\"scatter3d\"}],\"scattercarpet\":[{\"marker\":{\"colorbar\":{\"outlinewidth\":0,\"ticks\":\"\"}},\"type\":\"scattercarpet\"}],\"scattergeo\":[{\"marker\":{\"colorbar\":{\"outlinewidth\":0,\"ticks\":\"\"}},\"type\":\"scattergeo\"}],\"scattergl\":[{\"marker\":{\"colorbar\":{\"outlinewidth\":0,\"ticks\":\"\"}},\"type\":\"scattergl\"}],\"scattermapbox\":[{\"marker\":{\"colorbar\":{\"outlinewidth\":0,\"ticks\":\"\"}},\"type\":\"scattermapbox\"}],\"scatterpolar\":[{\"marker\":{\"colorbar\":{\"outlinewidth\":0,\"ticks\":\"\"}},\"type\":\"scatterpolar\"}],\"scatterpolargl\":[{\"marker\":{\"colorbar\":{\"outlinewidth\":0,\"ticks\":\"\"}},\"type\":\"scatterpolargl\"}],\"scatterternary\":[{\"marker\":{\"colorbar\":{\"outlinewidth\":0,\"ticks\":\"\"}},\"type\":\"scatterternary\"}],\"surface\":[{\"colorbar\":{\"outlinewidth\":0,\"ticks\":\"\"},\"colorscale\":[[0.0,\"#0d0887\"],[0.1111111111111111,\"#46039f\"],[0.2222222222222222,\"#7201a8\"],[0.3333333333333333,\"#9c179e\"],[0.4444444444444444,\"#bd3786\"],[0.5555555555555556,\"#d8576b\"],[0.6666666666666666,\"#ed7953\"],[0.7777777777777778,\"#fb9f3a\"],[0.8888888888888888,\"#fdca26\"],[1.0,\"#f0f921\"]],\"type\":\"surface\"}],\"table\":[{\"cells\":{\"fill\":{\"color\":\"#EBF0F8\"},\"line\":{\"color\":\"white\"}},\"header\":{\"fill\":{\"color\":\"#C8D4E3\"},\"line\":{\"color\":\"white\"}},\"type\":\"table\"}]},\"layout\":{\"annotationdefaults\":{\"arrowcolor\":\"#2a3f5f\",\"arrowhead\":0,\"arrowwidth\":1},\"autotypenumbers\":\"strict\",\"coloraxis\":{\"colorbar\":{\"outlinewidth\":0,\"ticks\":\"\"}},\"colorscale\":{\"diverging\":[[0,\"#8e0152\"],[0.1,\"#c51b7d\"],[0.2,\"#de77ae\"],[0.3,\"#f1b6da\"],[0.4,\"#fde0ef\"],[0.5,\"#f7f7f7\"],[0.6,\"#e6f5d0\"],[0.7,\"#b8e186\"],[0.8,\"#7fbc41\"],[0.9,\"#4d9221\"],[1,\"#276419\"]],\"sequential\":[[0.0,\"#0d0887\"],[0.1111111111111111,\"#46039f\"],[0.2222222222222222,\"#7201a8\"],[0.3333333333333333,\"#9c179e\"],[0.4444444444444444,\"#bd3786\"],[0.5555555555555556,\"#d8576b\"],[0.6666666666666666,\"#ed7953\"],[0.7777777777777778,\"#fb9f3a\"],[0.8888888888888888,\"#fdca26\"],[1.0,\"#f0f921\"]],\"sequentialminus\":[[0.0,\"#0d0887\"],[0.1111111111111111,\"#46039f\"],[0.2222222222222222,\"#7201a8\"],[0.3333333333333333,\"#9c179e\"],[0.4444444444444444,\"#bd3786\"],[0.5555555555555556,\"#d8576b\"],[0.6666666666666666,\"#ed7953\"],[0.7777777777777778,\"#fb9f3a\"],[0.8888888888888888,\"#fdca26\"],[1.0,\"#f0f921\"]]},\"colorway\":[\"#636efa\",\"#EF553B\",\"#00cc96\",\"#ab63fa\",\"#FFA15A\",\"#19d3f3\",\"#FF6692\",\"#B6E880\",\"#FF97FF\",\"#FECB52\"],\"font\":{\"color\":\"#2a3f5f\"},\"geo\":{\"bgcolor\":\"white\",\"lakecolor\":\"white\",\"landcolor\":\"#E5ECF6\",\"showlakes\":true,\"showland\":true,\"subunitcolor\":\"white\"},\"hoverlabel\":{\"align\":\"left\"},\"hovermode\":\"closest\",\"mapbox\":{\"style\":\"light\"},\"paper_bgcolor\":\"white\",\"plot_bgcolor\":\"#E5ECF6\",\"polar\":{\"angularaxis\":{\"gridcolor\":\"white\",\"linecolor\":\"white\",\"ticks\":\"\"},\"bgcolor\":\"#E5ECF6\",\"radialaxis\":{\"gridcolor\":\"white\",\"linecolor\":\"white\",\"ticks\":\"\"}},\"scene\":{\"xaxis\":{\"backgroundcolor\":\"#E5ECF6\",\"gridcolor\":\"white\",\"gridwidth\":2,\"linecolor\":\"white\",\"showbackground\":true,\"ticks\":\"\",\"zerolinecolor\":\"white\"},\"yaxis\":{\"backgroundcolor\":\"#E5ECF6\",\"gridcolor\":\"white\",\"gridwidth\":2,\"linecolor\":\"white\",\"showbackground\":true,\"ticks\":\"\",\"zerolinecolor\":\"white\"},\"zaxis\":{\"backgroundcolor\":\"#E5ECF6\",\"gridcolor\":\"white\",\"gridwidth\":2,\"linecolor\":\"white\",\"showbackground\":true,\"ticks\":\"\",\"zerolinecolor\":\"white\"}},\"shapedefaults\":{\"line\":{\"color\":\"#2a3f5f\"}},\"ternary\":{\"aaxis\":{\"gridcolor\":\"white\",\"linecolor\":\"white\",\"ticks\":\"\"},\"baxis\":{\"gridcolor\":\"white\",\"linecolor\":\"white\",\"ticks\":\"\"},\"bgcolor\":\"#E5ECF6\",\"caxis\":{\"gridcolor\":\"white\",\"linecolor\":\"white\",\"ticks\":\"\"}},\"title\":{\"x\":0.05},\"xaxis\":{\"automargin\":true,\"gridcolor\":\"white\",\"linecolor\":\"white\",\"ticks\":\"\",\"title\":{\"standoff\":15},\"zerolinecolor\":\"white\",\"zerolinewidth\":2},\"yaxis\":{\"automargin\":true,\"gridcolor\":\"white\",\"linecolor\":\"white\",\"ticks\":\"\",\"title\":{\"standoff\":15},\"zerolinecolor\":\"white\",\"zerolinewidth\":2}}},\"title\":{\"text\":\"Numerical Columns per Type\"},\"xaxis\":{\"anchor\":\"y\",\"domain\":[0.0,0.2125]},\"xaxis2\":{\"anchor\":\"y2\",\"domain\":[0.2625,0.475]},\"xaxis3\":{\"anchor\":\"y3\",\"domain\":[0.525,0.7375]},\"xaxis4\":{\"anchor\":\"y4\",\"domain\":[0.7875,1.0]},\"yaxis\":{\"anchor\":\"x\",\"domain\":[0.0,1.0]},\"yaxis2\":{\"anchor\":\"x2\",\"domain\":[0.0,1.0],\"matches\":\"y\",\"showticklabels\":false},\"yaxis3\":{\"anchor\":\"x3\",\"domain\":[0.0,1.0],\"matches\":\"y\",\"showticklabels\":false},\"yaxis4\":{\"anchor\":\"x4\",\"domain\":[0.0,1.0],\"matches\":\"y\",\"showticklabels\":false}},                        {\"responsive\": true}                    ).then(function(){\n",
       "                            \n",
       "var gd = document.getElementById('cadac853-1c2b-4a5f-9d24-3bc00aab989c');\n",
       "var x = new MutationObserver(function (mutations, observer) {{\n",
       "        var display = window.getComputedStyle(gd).display;\n",
       "        if (!display || display === 'none') {{\n",
       "            console.log([gd, 'removed!']);\n",
       "            Plotly.purge(gd);\n",
       "            observer.disconnect();\n",
       "        }}\n",
       "}});\n",
       "\n",
       "// Listen for the removal of the full notebook cells\n",
       "var notebookContainer = gd.closest('#notebook-container');\n",
       "if (notebookContainer) {{\n",
       "    x.observe(notebookContainer, {childList: true});\n",
       "}}\n",
       "\n",
       "// Listen for the clearing of the current output cell\n",
       "var outputEl = gd.closest('.output');\n",
       "if (outputEl) {{\n",
       "    x.observe(outputEl, {childList: true});\n",
       "}}\n",
       "\n",
       "                        })                };                });            </script>        </div>"
      ]
     },
     "metadata": {},
     "output_type": "display_data"
    }
   ],
   "source": [
    "# Assess the mean value for each numerical column and the association with type\n",
    "fig = make_subplots(rows=1, cols=4, shared_yaxes=True, subplot_titles=(train.loc[:, train.dtypes==float].columns))\n",
    "num = 1\n",
    "\n",
    "for i in train.loc[:, train.dtypes==float].columns:\n",
    "    x = train.groupby('type')[i].mean().index\n",
    "    y = train.groupby('type')[i].mean().values\n",
    "    fig.add_trace(go.Bar(x=x, y=y),1, num)\n",
    "    num += 1\n",
    "    \n",
    "fig.update_layout(showlegend=False, title_text=\"Numerical Columns per Type\")\n",
    "\n",
    "fig.show()"
   ]
  },
  {
   "cell_type": "code",
   "execution_count": 151,
   "metadata": {},
   "outputs": [
    {
     "data": {
      "text/plain": [
       "white    137\n",
       "clear    120\n",
       "green     42\n",
       "black     41\n",
       "blue      19\n",
       "blood     12\n",
       "Name: color, dtype: int64"
      ]
     },
     "execution_count": 151,
     "metadata": {},
     "output_type": "execute_result"
    }
   ],
   "source": [
    "train['color'].value_counts()"
   ]
  },
  {
   "cell_type": "code",
   "execution_count": 152,
   "metadata": {},
   "outputs": [
    {
     "data": {
      "text/plain": [
       "color  type  \n",
       "black  Ghost     14\n",
       "       Ghoul     14\n",
       "       Goblin    13\n",
       "blood  Ghost      6\n",
       "       Ghoul      4\n",
       "       Goblin     2\n",
       "blue   Ghost      6\n",
       "       Ghoul      6\n",
       "       Goblin     7\n",
       "clear  Ghost     32\n",
       "       Ghoul     42\n",
       "       Goblin    46\n",
       "green  Ghost     15\n",
       "       Ghoul     13\n",
       "       Goblin    14\n",
       "white  Ghost     44\n",
       "       Ghoul     50\n",
       "       Goblin    43\n",
       "Name: id, dtype: int64"
      ]
     },
     "execution_count": 152,
     "metadata": {},
     "output_type": "execute_result"
    }
   ],
   "source": [
    "train.groupby(['color', 'type'])['id'].count()"
   ]
  },
  {
   "cell_type": "code",
   "execution_count": 153,
   "metadata": {},
   "outputs": [
    {
     "data": {
      "text/plain": [
       "'id'"
      ]
     },
     "execution_count": 153,
     "metadata": {},
     "output_type": "execute_result"
    }
   ],
   "source": [
    "train.columns[0]"
   ]
  },
  {
   "cell_type": "code",
   "execution_count": 154,
   "metadata": {},
   "outputs": [
    {
     "data": {
      "text/html": [
       "<div>\n",
       "<style scoped>\n",
       "    .dataframe tbody tr th:only-of-type {\n",
       "        vertical-align: middle;\n",
       "    }\n",
       "\n",
       "    .dataframe tbody tr th {\n",
       "        vertical-align: top;\n",
       "    }\n",
       "\n",
       "    .dataframe thead th {\n",
       "        text-align: right;\n",
       "    }\n",
       "</style>\n",
       "<table border=\"1\" class=\"dataframe\">\n",
       "  <thead>\n",
       "    <tr style=\"text-align: right;\">\n",
       "      <th></th>\n",
       "      <th>bone_length</th>\n",
       "      <th>rotting_flesh</th>\n",
       "      <th>hair_length</th>\n",
       "      <th>has_soul</th>\n",
       "      <th>color</th>\n",
       "      <th>type</th>\n",
       "    </tr>\n",
       "  </thead>\n",
       "  <tbody>\n",
       "    <tr>\n",
       "      <th>0</th>\n",
       "      <td>0.354512</td>\n",
       "      <td>0.350839</td>\n",
       "      <td>0.465761</td>\n",
       "      <td>0.781142</td>\n",
       "      <td>clear</td>\n",
       "      <td>Ghoul</td>\n",
       "    </tr>\n",
       "    <tr>\n",
       "      <th>1</th>\n",
       "      <td>0.575560</td>\n",
       "      <td>0.425868</td>\n",
       "      <td>0.531401</td>\n",
       "      <td>0.439899</td>\n",
       "      <td>green</td>\n",
       "      <td>Goblin</td>\n",
       "    </tr>\n",
       "    <tr>\n",
       "      <th>2</th>\n",
       "      <td>0.467875</td>\n",
       "      <td>0.354330</td>\n",
       "      <td>0.811616</td>\n",
       "      <td>0.791225</td>\n",
       "      <td>black</td>\n",
       "      <td>Ghoul</td>\n",
       "    </tr>\n",
       "    <tr>\n",
       "      <th>3</th>\n",
       "      <td>0.776652</td>\n",
       "      <td>0.508723</td>\n",
       "      <td>0.636766</td>\n",
       "      <td>0.884464</td>\n",
       "      <td>black</td>\n",
       "      <td>Ghoul</td>\n",
       "    </tr>\n",
       "    <tr>\n",
       "      <th>4</th>\n",
       "      <td>0.566117</td>\n",
       "      <td>0.875862</td>\n",
       "      <td>0.418594</td>\n",
       "      <td>0.636438</td>\n",
       "      <td>green</td>\n",
       "      <td>Ghost</td>\n",
       "    </tr>\n",
       "    <tr>\n",
       "      <th>...</th>\n",
       "      <td>...</td>\n",
       "      <td>...</td>\n",
       "      <td>...</td>\n",
       "      <td>...</td>\n",
       "      <td>...</td>\n",
       "      <td>...</td>\n",
       "    </tr>\n",
       "    <tr>\n",
       "      <th>366</th>\n",
       "      <td>0.458132</td>\n",
       "      <td>0.391760</td>\n",
       "      <td>0.660590</td>\n",
       "      <td>0.635689</td>\n",
       "      <td>blue</td>\n",
       "      <td>Goblin</td>\n",
       "    </tr>\n",
       "    <tr>\n",
       "      <th>367</th>\n",
       "      <td>0.331936</td>\n",
       "      <td>0.564836</td>\n",
       "      <td>0.539216</td>\n",
       "      <td>0.551471</td>\n",
       "      <td>green</td>\n",
       "      <td>Ghost</td>\n",
       "    </tr>\n",
       "    <tr>\n",
       "      <th>368</th>\n",
       "      <td>0.481640</td>\n",
       "      <td>0.501147</td>\n",
       "      <td>0.496446</td>\n",
       "      <td>0.544003</td>\n",
       "      <td>clear</td>\n",
       "      <td>Ghoul</td>\n",
       "    </tr>\n",
       "    <tr>\n",
       "      <th>369</th>\n",
       "      <td>0.294943</td>\n",
       "      <td>0.771286</td>\n",
       "      <td>0.583503</td>\n",
       "      <td>0.300618</td>\n",
       "      <td>clear</td>\n",
       "      <td>Ghost</td>\n",
       "    </tr>\n",
       "    <tr>\n",
       "      <th>370</th>\n",
       "      <td>0.670200</td>\n",
       "      <td>0.768469</td>\n",
       "      <td>0.737274</td>\n",
       "      <td>0.608384</td>\n",
       "      <td>white</td>\n",
       "      <td>Ghoul</td>\n",
       "    </tr>\n",
       "  </tbody>\n",
       "</table>\n",
       "<p>371 rows × 6 columns</p>\n",
       "</div>"
      ],
      "text/plain": [
       "     bone_length  rotting_flesh  hair_length  has_soul  color    type\n",
       "0       0.354512       0.350839     0.465761  0.781142  clear   Ghoul\n",
       "1       0.575560       0.425868     0.531401  0.439899  green  Goblin\n",
       "2       0.467875       0.354330     0.811616  0.791225  black   Ghoul\n",
       "3       0.776652       0.508723     0.636766  0.884464  black   Ghoul\n",
       "4       0.566117       0.875862     0.418594  0.636438  green   Ghost\n",
       "..           ...            ...          ...       ...    ...     ...\n",
       "366     0.458132       0.391760     0.660590  0.635689   blue  Goblin\n",
       "367     0.331936       0.564836     0.539216  0.551471  green   Ghost\n",
       "368     0.481640       0.501147     0.496446  0.544003  clear   Ghoul\n",
       "369     0.294943       0.771286     0.583503  0.300618  clear   Ghost\n",
       "370     0.670200       0.768469     0.737274  0.608384  white   Ghoul\n",
       "\n",
       "[371 rows x 6 columns]"
      ]
     },
     "execution_count": 154,
     "metadata": {},
     "output_type": "execute_result"
    }
   ],
   "source": [
    "train.drop(columns='id')"
   ]
  },
  {
   "cell_type": "code",
   "execution_count": 155,
   "metadata": {},
   "outputs": [
    {
     "data": {
      "application/vnd.plotly.v1+json": {
       "config": {
        "plotlyServerURL": "https://plot.ly"
       },
       "data": [
        {
         "dimensions": [
          {
           "axis": {
            "matches": true
           },
           "label": "bone_length",
           "values": [
            0.3545121845821541,
            0.467875498742323,
            0.776652460655474,
            0.5162238981116547,
            0.584543226402469,
            0.3907121285960714,
            0.5001965520236578,
            0.5855593168709793,
            0.6058359561481175,
            0.4726032938231003,
            0.3433496058239474,
            0.6872555002914946,
            0.6729770643554356,
            0.5581960768300526,
            0.6363467701119719,
            0.5642817569821001,
            0.4151096964698842,
            0.3141428773386546,
            0.4817163588057449,
            0.5716187693902656,
            0.4954670559912866,
            0.5126766858793707,
            0.7535051395445669,
            0.6654319716727949,
            0.6441755544149369,
            0.2275320914606136,
            0.3152760326328197,
            0.5102421707697722,
            0.5861772994209699,
            0.6313272032845839,
            0.501305752172094,
            0.5147166050287932,
            0.521779901441308,
            0.6008978671842379,
            0.3508380816775922,
            0.4406963474555094,
            0.4507593196196853,
            0.4967339773850895,
            0.5325901084246948,
            0.587570659847358,
            0.4720591455885397,
            0.4440092595626775,
            0.3513153022774596,
            0.4349977494520962,
            0.6091606601249137,
            0.6671816209592498,
            0.5841766673316365,
            0.4161517532856235,
            0.5349876694608388,
            0.6694190901475464,
            0.5598250745457363,
            0.6304705900407669,
            0.8170014327207992,
            0.5408063266621841,
            0.4896277054256568,
            0.5107041762420627,
            0.5655213379202007,
            0.3087546910594997,
            0.6816150258023715,
            0.3674193755313768,
            0.7308481259008561,
            0.5664239021619079,
            0.2966045215824983,
            0.42172073418984,
            0.3571453629923807,
            0.523832930184412,
            0.322303941310501,
            0.5055970065854175,
            0.489446322959167,
            0.4311850258585969,
            0.5182308394104409,
            0.5159845568291059,
            0.6277343663920077,
            0.6148994038783354,
            0.5244103827541664,
            0.3345520956409246,
            0.5237886449947281,
            0.6544882647955068,
            0.4996096456060792,
            0.4827161837683349,
            0.2007525650933715,
            0.7552975085362733,
            0.4308013866548665,
            0.5884133649804179,
            0.5862265848381086,
            0.5153971790364432,
            0.6133645269466709,
            0.5299845645400029,
            0.5903836895047814,
            0.4068335382007837,
            0.7613554112947414,
            0.4798184400763809,
            0.4624895790300461,
            0.4933947548278907,
            0.2323006781078838,
            0.4768916238529865,
            0.3582398592403725,
            0.6305854122728537,
            0.6870798464680745,
            0.7571377380956645,
            0.5400876338610013,
            0.5340006619939253,
            0.5212368917903017,
            0.5285356140406823,
            0.3870112735401417,
            0.6005569017635347,
            0.4219335411095097,
            0.4177761432660903,
            0.4223219616418998,
            0.6495590309746747,
            0.5710561840298457,
            0.5411810684466748,
            0.5160036963323632,
            0.3834889715343975,
            0.5115925357978953,
            0.3201754063428098,
            0.4396245808903376,
            0.4886321866874934,
            0.6266145629030311,
            0.7129132189757785,
            0.5025990844061363,
            0.4961396808820898,
            0.4348911277684966,
            0.6260168005606022,
            0.4677850248522497,
            0.5010218791127545,
            0.4060617791475717,
            0.4816397309789108,
            0.6701995355809963
           ]
          },
          {
           "axis": {
            "matches": true
           },
           "label": "rotting_flesh",
           "values": [
            0.35083902671065,
            0.3543304203917748,
            0.5087225499432287,
            0.5364287456984622,
            0.5930819356156424,
            0.3350693972625707,
            0.4384181454387683,
            0.585938618841321,
            0.5879431786674414,
            0.4271505454280777,
            0.3974500258119089,
            0.3015761681272884,
            0.6204785539163591,
            0.5803627234695455,
            0.501060729410613,
            0.4195001329997656,
            0.4346160392215713,
            0.4217514012433346,
            0.5272508210222587,
            0.4319547492504906,
            0.5518773502059889,
            0.4174737785189097,
            0.5114129864982715,
            0.5648697805869589,
            0.5938440718774165,
            0.4910821279651651,
            0.5870527657111461,
            0.4033650680159029,
            0.4695342721294384,
            0.4117492485446649,
            0.5369953815809708,
            0.446317802784173,
            0.2776273196630995,
            0.4117295844307556,
            0.4546369544968154,
            0.4088721970010666,
            0.5426486748724326,
            0.5324864850401149,
            0.3756975484912491,
            0.4480597878912994,
            0.4939858508386243,
            0.416513187840329,
            0.4661335273167037,
            0.4126126083031732,
            0.7177670195132709,
            0.4141397988501861,
            0.4453502019297329,
            0.4180867866748625,
            0.4774191187499793,
            0.6725879228022708,
            0.6490876676431611,
            0.5810286766348954,
            0.4008079586715121,
            0.3233651839767509,
            0.552183344874835,
            0.6029320678907382,
            0.422096649509632,
            0.7050341195329825,
            0.5292274653728721,
            0.5752290600318004,
            0.5364557801829294,
            0.4311095936650269,
            0.3521568668219182,
            0.3203029521491927,
            0.4899314197129091,
            0.2809651043045211,
            0.5516586261954786,
            0.4510943725257459,
            0.4154849748957757,
            0.221793443545452,
            0.4944910151076158,
            0.4914966936736808,
            0.6520665637156676,
            0.7791525749422179,
            0.4003434154034117,
            0.500769296558434,
            0.6573167346106544,
            0.4393923976444442,
            0.4364747787846141,
            0.5614814659061313,
            0.2779447190113115,
            0.4759321550030602,
            0.5336139110410659,
            0.6562424436682945,
            0.4642843185201076,
            0.5617857657534445,
            0.4894378936383528,
            0.2597019865057757,
            0.514357511555222,
            0.4553102868830651,
            0.3314799509814848,
            0.5697617962416881,
            0.5748439666121937,
            0.501551767875182,
            0.4259669470678559,
            0.4785923544676903,
            0.3707745809664184,
            0.539712232484287,
            0.5360903383609764,
            0.5566020017570789,
            0.4815320826451627,
            0.5959918074276711,
            0.6087281979798949,
            0.5891397663212339,
            0.5270474691798911,
            0.4542131929675608,
            0.2504010945633725,
            0.3524301076993661,
            0.6730891842040043,
            0.5078463208836099,
            0.7298729011831669,
            0.3705810260156199,
            0.5275078933054959,
            0.5520484793694205,
            0.7293598080323525,
            0.6919286846064977,
            0.5141795140086365,
            0.5484730688109186,
            0.3898047732560749,
            0.5318919417691564,
            0.6041742947466081,
            0.377487567177927,
            0.6671597792809306,
            0.1721822570266518,
            0.4201354072298341,
            0.5848466079834541,
            0.4499437702553888,
            0.5011471150435187,
            0.7684686738777555
           ]
          },
          {
           "axis": {
            "matches": true
           },
           "label": "hair_length",
           "values": [
            0.4657608918291205,
            0.8116160896689244,
            0.6367655799597881,
            0.6127761465851604,
            0.6811657623420384,
            0.5561094618022101,
            0.5325298147689491,
            1,
            0.529361248889943,
            0.5901301905716715,
            0.4788760240519573,
            0.7619487306930753,
            0.4357144772611028,
            0.7727343677011607,
            0.7377953702344142,
            0.6829307073109625,
            0.7074692453944934,
            0.6908889547102464,
            0.7402698805197881,
            0.6413094293590536,
            0.8093298419777889,
            0.678072186028185,
            0.6849794403737177,
            0.5959881099885534,
            0.7280790531235288,
            0.6168465079037313,
            0.4461893168527103,
            0.6904104961933827,
            0.7643118029629932,
            0.7076088912170572,
            0.6311991484505178,
            0.6224889268626522,
            0.7012144413253804,
            0.7177272978235335,
            0.7830008912984777,
            0.5419660479254961,
            0.7952065996029921,
            0.7097083496232938,
            0.5538274795707618,
            0.7063117660573961,
            0.5566914355021801,
            0.7187616727437887,
            0.75659427100265,
            0.7533312606217331,
            0.6588476466097875,
            0.5187103317800108,
            0.7143234732571501,
            0.8020772958890946,
            0.7193506301355973,
            0.8830876232400002,
            0.7592953828709256,
            0.6472514228287934,
            0.4370467247806591,
            0.6906053188576596,
            0.6796241520339236,
            0.5399453057165825,
            0.598681844667116,
            0.6434676262105207,
            0.6252424092532337,
            0.4749417583616708,
            0.4080655861465742,
            0.6845990131683044,
            0.90181023619074,
            0.427802093939081,
            0.6981899841474759,
            0.4756468209228535,
            0.8492113552790871,
            0.6839935981346329,
            0.825952917971847,
            0.4915352675044641,
            0.5454432529801341,
            0.9014667584893996,
            0.6556438273888984,
            0.4287174717773776,
            0.749885949104632,
            0.6826563169851186,
            0.8189792357764386,
            0.6211210491244005,
            0.5917520169235349,
            0.5314228814019432,
            0.5685342557786361,
            0.965568532709348,
            0.5285604037568403,
            0.8355006315499691,
            0.5997738555797856,
            0.5288184275146894,
            0.5808079950356857,
            0.7132363704280948,
            0.7148151920659093,
            0.2870075203943187,
            0.8610600925230152,
            0.7213623931192393,
            0.5980974741944622,
            0.6603668617061033,
            0.5778186741715855,
            0.4036303346402042,
            0.6673837050439432,
            0.3055797150261434,
            0.7516135247140048,
            0.7607364502095,
            0.7174795760309887,
            0.8501404673408831,
            0.946612014442891,
            0.6512166236569396,
            0.7657516183014328,
            0.5563310890474147,
            0.8511714670211034,
            0.6042644053259479,
            0.8293724953601913,
            0.7348547480537332,
            0.4211657028673038,
            0.7912264449001588,
            0.3548574295227587,
            0.5264208697412078,
            0.4929183046692216,
            0.5644936214175476,
            0.8161216310068317,
            0.5986208699715143,
            0.6207580446896525,
            0.7564647935134049,
            0.617954672131419,
            0.6472375551399165,
            0.7986176084369192,
            0.408421804580713,
            0.6318937148461823,
            0.6562302419663666,
            0.7889825792471347,
            0.4964462495029654,
            0.7372743479813444
           ]
          },
          {
           "axis": {
            "matches": true
           },
           "label": "has_soul",
           "values": [
            0.78114166586219,
            0.791224973337769,
            0.8844636920976973,
            0.4680482696484728,
            0.9357213331107028,
            0.7842165804203274,
            0.6655224296568855,
            0.708691750060939,
            0.5267176472227212,
            0.3564882329332289,
            0.6218228827390226,
            0.5137787308603302,
            0.3287165853781181,
            0.3707403331814098,
            0.6955887530369675,
            0.4726900403323142,
            0.5263188963457769,
            0.4352449488897356,
            0.7008569048181902,
            0.4622948816175269,
            0.9077121347405334,
            0.7963323704355315,
            0.5015436658450332,
            0.6471415616675186,
            0.5617819587476738,
            0.4800460331707734,
            0.8008532560215341,
            0.4795252725047397,
            0.2808536942554318,
            0.7694553869322027,
            0.5911064565425131,
            0.7826990352369126,
            0.5675633245510552,
            0.5316405586386899,
            0.6744786043392166,
            0.5690111635288884,
            0.7394285224985448,
            0.6490072648772257,
            0.6794031601976999,
            0.5834153354713172,
            0.5637201631341431,
            0.5080565482452986,
            0.6092226071235277,
            0.6125769935483754,
            0.4663716652206057,
            0.4562133032583986,
            0.6502638308796707,
            0.4549219367786182,
            0.44744371634454,
            0.5244924107920369,
            0.6569434116684002,
            0.5052134266801225,
            0.6482301732469332,
            0.6984804653455878,
            0.6270302448657145,
            0.7663107982186453,
            0.6424059676312402,
            0.5837499669420213,
            0.6153082208134042,
            0.4484017950452802,
            0.7875127894149119,
            0.575277204012294,
            0.5411234740544943,
            0.5336957184844102,
            0.7536870809531032,
            0.6645758508325311,
            0.5170909693916612,
            0.7920717584189387,
            0.5034754896393583,
            0.2995110623516535,
            0.6003927412898974,
            0.4480635496432015,
            0.4591233182574153,
            0.7924097607153152,
            0.7626759520243293,
            0.6270858482985827,
            0.6245038929566373,
            0.7401986547089792,
            0.6596218307800241,
            0.5606587838094296,
            0.556149201619786,
            0.6359345971757204,
            0.3681480443948453,
            0.6361012301828235,
            0.8567568167671697,
            0.3735016571301501,
            0.5998460303550801,
            0.5996677875533437,
            0.6131141225129884,
            0.6416805442858692,
            0.7358968953394378,
            0.4919379191467224,
            0.4674467861467118,
            0.605896960260879,
            0.733815877405728,
            0.544586652208558,
            0.7405790642637972,
            0.7775196969582735,
            0.7259599419999203,
            0.5702604475625773,
            0.6947839601121377,
            0.7942472943179957,
            0.676992586402129,
            0.4121756662989291,
            0.6102976743553843,
            0.6931487489923561,
            0.5807525622359989,
            0.4091902593002075,
            0.5778361624373266,
            0.546648257094182,
            0.7854226316995812,
            0.4829132184080529,
            0.7604317994664286,
            0.7033103648544025,
            0.8031946198782922,
            0.4894910714495504,
            0.6514913737638149,
            0.5445659125918522,
            0.7125488314218412,
            0.4536338330897058,
            0.5935448602683817,
            0.4656888678867193,
            0.4600606006479525,
            0.6449405291466007,
            0.3865087470270767,
            0.4698857370086443,
            0.4285529910950088,
            0.5440032316400073,
            0.6083839550449307
           ]
          }
         ],
         "hovertemplate": "type=Ghoul<br>%{xaxis.title.text}=%{x}<br>%{yaxis.title.text}=%{y}<extra></extra>",
         "legendgroup": "Ghoul",
         "marker": {
          "color": "#636efa",
          "symbol": "circle"
         },
         "name": "Ghoul",
         "showlegend": true,
         "type": "splom"
        },
        {
         "dimensions": [
          {
           "axis": {
            "matches": true
           },
           "label": "bone_length",
           "values": [
            0.5755599050254655,
            0.405679744891883,
            0.399330850860438,
            0.4316852133394812,
            0.3515586720944532,
            0.5133872213931538,
            0.503164057832666,
            0.374448573799757,
            0.3885005478963415,
            0.4924381032273604,
            0.4116626945454133,
            0.3041977859670044,
            0.5545095992350249,
            0.5237285619471904,
            0.3849579750034331,
            0.2871931864179819,
            0.3628871069153425,
            0.2952291420624456,
            0.6276523661689718,
            0.6785187395803213,
            0.5152749837361404,
            0.622413651059006,
            0.2086251737392714,
            0.4909877679338796,
            0.4808360007818567,
            0.4983363846536767,
            0.485801814781045,
            0.3440868558121701,
            0.4645909855146808,
            0.3788110345115076,
            0.6194680108100487,
            0.5803025204175463,
            0.3654367072896388,
            0.4315007990246001,
            0.3059428946213542,
            0.252512821690625,
            0.4527408048904949,
            0.440854689448784,
            0.4767300230361486,
            0.4891323934260234,
            0.4538691895009534,
            0.2734580108777351,
            0.3395008141245191,
            0.5053752538799586,
            0.3877299926209585,
            0.6178324098326736,
            0.3583113280000451,
            0.3247693380948151,
            0.2971478482685644,
            0.3515617488056713,
            0.379547939481265,
            0.3842352341392903,
            0.3692739347589883,
            0.4244927698345165,
            0.5289868407342713,
            0.5277621870564683,
            0.329668208763034,
            0.4068796467950714,
            0.3899276800513611,
            0.2527332023614684,
            0.476768596926305,
            0.4307970001287445,
            0.4973169405876106,
            0.4460409758551139,
            0.5949939542985202,
            0.4532135030785801,
            0.5715019843857816,
            0.4984383302504508,
            0.47120115455526,
            0.4654233249019935,
            0.5254848998177738,
            0.5176317289678591,
            0.6221239910511766,
            0.3962978552150852,
            0.2279477968345748,
            0.4390632860190493,
            0.4036187136141595,
            0.4690199209184322,
            0.2850220936317743,
            0.2502931550286889,
            0.339569098440343,
            0.5241379236461077,
            0.2750211376626579,
            0.2844510413025236,
            0.3365734156264305,
            0.4510851028671813,
            0.3045185925967165,
            0.5871421359150822,
            0.4272175448421107,
            0.4763200416135701,
            0.20999665083892,
            0.5144303430623148,
            0.3810575128864099,
            0.491709701562399,
            0.4037272159825862,
            0.423953236847586,
            0.3550870183601146,
            0.4165771994283703,
            0.4764660777291431,
            0.4688407188928862,
            0.4409981585862939,
            0.3714221256048394,
            0.5778091112204605,
            0.3378043185749406,
            0.444005602311103,
            0.3225103262790144,
            0.4173001058933074,
            0.4839050876561649,
            0.5546624268278099,
            0.3425846004517803,
            0.4135764428639238,
            0.664432457376306,
            0.3777560832044784,
            0.3203642312313993,
            0.3238053473389625,
            0.6243882723635749,
            0.3462834483038663,
            0.3553127174590911,
            0.5529714816656802,
            0.3625668270307094,
            0.4401325118247183,
            0.4455471177513875,
            0.3774494817091187,
            0.4867440133136787,
            0.4581318644795705
           ]
          },
          {
           "axis": {
            "matches": true
           },
           "label": "rotting_flesh",
           "values": [
            0.4258684322105845,
            0.253277496666039,
            0.5689517671030597,
            0.4389592731593482,
            0.4710781716572552,
            0.3013447615817322,
            0.464055333613106,
            0.3841831312845876,
            0.3423058488540095,
            0.6231972685456857,
            0.4540754660570032,
            0.2669042311479353,
            0.6306693955812395,
            0.3184827811959322,
            0.6157316442049253,
            0.5308524632922635,
            0.64872488487384,
            0.3318093785082954,
            0.840049257185007,
            0.4768210026454308,
            0.5826271870287086,
            0.4976141148296257,
            0.5192351448449374,
            0.5451445622258867,
            0.4079301522351624,
            0.3743743919162575,
            0.5719078529210007,
            0.2446619396923098,
            0.7154008068229857,
            0.3472874989749956,
            0.4656137262655644,
            0.1797270831682676,
            0.5131153911113325,
            0.3495548972395665,
            0.2875228152208341,
            0.4790928328070188,
            0.3841326097610991,
            0.4327103997843644,
            0.2424195416971536,
            0.4813039836446962,
            0.2597010316628004,
            0.4632385597037065,
            0.3369807418542262,
            0.3275780661167667,
            0.6595345001464734,
            0.2808683390927275,
            0.6217277259064756,
            0.2771099347866524,
            0.531544217494227,
            0.4574899181315408,
            0.3366204159135075,
            0.3934511376126063,
            0.7448295880889986,
            0.273025586846547,
            0.4961388668470776,
            0.6858696268930651,
            0.3319987444321495,
            0.4644902594238498,
            0.4027292855860745,
            0.4587455024137721,
            0.4384141063893932,
            0.4447872166811465,
            0.4715800497245867,
            0.2361419389059373,
            0.5274299447627853,
            0.4752234521836369,
            0.3157918707393884,
            0.6537834188650635,
            0.5685423320705383,
            0.0956866470016313,
            0.6677033349281426,
            0.3475661799907788,
            0.5856000107674431,
            0.4604070192512913,
            0.501056352063739,
            0.4905148603287027,
            0.5590108835403276,
            0.6210631049870445,
            0.4923153458956908,
            0.4088781830633378,
            0.4414899582612495,
            0.5781625799075041,
            0.6899749261931994,
            0.2202684682829915,
            0.2430919602050877,
            0.4645078697860929,
            0.3013289058485672,
            0.4204263094957165,
            0.5454233048791824,
            0.2862260846006159,
            0.4971123195299978,
            0.3084109800575708,
            0.7041682290839908,
            0.4636293903678197,
            0.3643664521794562,
            0.6145688510700718,
            0.4440244873210163,
            0.4585225271488922,
            0.5345811964008034,
            0.5174176217802128,
            0.2340513252885737,
            0.508111190483182,
            0.5003394585777345,
            0.3780925497718048,
            0.4241889939536255,
            0.4341013917051471,
            0.3775948819510494,
            0.5699170933679273,
            0.20867584728205,
            0.261752453992259,
            0.3568627094592894,
            0.3588398940306163,
            0.5935372360462214,
            0.2125377697764852,
            0.5059631966083168,
            0.6612348871907548,
            0.1587418624387186,
            0.3446838246030724,
            0.3411872125953227,
            0.639753416784588,
            0.3911570608294429,
            0.2411393719831536,
            0.4661578199733501,
            0.4626664876894513,
            0.3917598269859147
           ]
          },
          {
           "axis": {
            "matches": true
           },
           "label": "hair_length",
           "values": [
            0.5314013787091408,
            0.4414196710726872,
            0.6183910202674578,
            0.2392124879973941,
            0.4844577817226679,
            0.7456755654684397,
            0.4977828029510476,
            0.6758683607952992,
            0.6696272909639486,
            0.6048791200547257,
            0.4080971534648053,
            0.5272248823714463,
            0.5924842265783549,
            0.3301456396587741,
            0.5695446230585894,
            0.4667249454869934,
            0.6311837728986085,
            0.5868540657573691,
            0.4148160632278105,
            0.477151808358027,
            0.5687211851289684,
            0.4654186935799081,
            0.6195587471733435,
            0.4925270324802118,
            0.5390045850320772,
            0.579925795870067,
            0.6565276392185239,
            0.5299634775383124,
            0.6235057827956325,
            0.6644342774170744,
            0.3679139233883964,
            0.5159266836490247,
            0.4680374498054059,
            0.4689364528322659,
            0.3367107120179355,
            0.6588470862855409,
            0.3055935585139359,
            0.6439888699324209,
            0.2942143044827539,
            0.4826913519554032,
            0.5814003518123008,
            0.4535154573557917,
            0.4924410100563741,
            0.6504305254894994,
            0.3561078481838985,
            0.5275759263590484,
            0.5594994385327345,
            0.8006455073380017,
            0.3120016037441498,
            0.5479770541342132,
            0.5132440884492735,
            0.3537460225757103,
            0.6539385877943338,
            0.3936569335886848,
            0.7169969375107043,
            0.5844348854528356,
            0.3964286740824388,
            0.5381458572290391,
            0.474254675734824,
            0.5968352850010129,
            0.5863935520579039,
            0.6301836580112177,
            0.3917703338386066,
            0.6209124499240235,
            0.4036303110740407,
            0.5587764002351772,
            0.765131104827964,
            0.3787065562118162,
            0.515442066863545,
            0.4067905221381402,
            0.3807165833455602,
            0.4272752269206539,
            0.5955294577342635,
            0.515815395861687,
            0.4711195157317104,
            0.6547214095239163,
            0.5897838964861386,
            0.641630555346056,
            0.7206782608955851,
            0.4566182375844146,
            0.4489891933979612,
            0.6217871470661697,
            0.5865127801377743,
            0.3574054492749826,
            0.2534588626743252,
            0.5058186231118217,
            0.5458802869535341,
            0.5612710788405073,
            0.6396500067877003,
            0.4888433654677488,
            0.6424505913910452,
            0.5332964096963335,
            0.5147490467097858,
            0.5594443924607964,
            0.6090040178878497,
            0.584209778754942,
            0.5353444823915584,
            0.7683330522823812,
            0.342815920723563,
            0.6209557115311447,
            0.5769116792804196,
            0.5911200104982167,
            0.7566291207477428,
            0.694287038730347,
            0.5496132061727924,
            0.5958799946619029,
            0.5418338647344139,
            0.6347676415210999,
            0.6538545201052042,
            0.5828646952080849,
            0.6585401835559873,
            0.666816451154938,
            0.5956286899543685,
            0.5925587890039019,
            0.4960383282659343,
            0.5744578178095248,
            0.7149870242277861,
            0.5557276505550555,
            0.6448010334120685,
            0.5362475723300909,
            0.57198307632316,
            0.5586141779285623,
            0.4973513849100462,
            0.8400125685822827,
            0.6605898989575533
           ]
          },
          {
           "axis": {
            "matches": true
           },
           "label": "has_soul",
           "values": [
            0.439898877037289,
            0.2803238199213896,
            0.4679008345210921,
            0.4718195627187505,
            0.4653278802844954,
            0.5457922990384892,
            0.4720310491885279,
            0.4147003342395816,
            0.5386486690149674,
            0.3761415241524868,
            0.4329211406473242,
            0.3867134123693171,
            0.61536431261308,
            0.4274020872726478,
            0.4552847774447461,
            0.2999927060981274,
            0.4450454788106796,
            0.4908787937274375,
            0.4886172080770984,
            0.4893578586829505,
            0.5340786157865054,
            0.4591407549234579,
            0.2921310204613237,
            0.3023012050644125,
            0.495069123498046,
            0.511726043098702,
            0.465084500998666,
            0.3771214225861956,
            0.2965062830705051,
            0.5041788374944127,
            0.5358577412186541,
            0.6234190564594687,
            0.5460900739076539,
            0.1944133104434503,
            0.3180327182965733,
            0.3309152241162056,
            0.3718074755513306,
            0.3222355709868215,
            0.3177953129419818,
            0.4600806815642914,
            0.5678428976117842,
            0.3363903219681988,
            0.3455920106968366,
            0.5280153363603927,
            0.5509678477856494,
            0.6972681307061295,
            0.7616206764375024,
            0.3596816845870296,
            0.3826995550048712,
            0.3683700124904728,
            0.3710145909474462,
            0.4908843315183884,
            0.6759611115419202,
            0.3639073342700609,
            0.3325922146699069,
            0.5571361352049744,
            0.5071423107372529,
            0.6008270879099518,
            0.4193194969992285,
            0.6830894876636203,
            0.5833937494035416,
            0.6110125099756385,
            0.3676887196731881,
            0.612720425460397,
            0.2867936496225201,
            0.2305229311657603,
            0.5751389298780695,
            0.7089807908097879,
            0.3887911641110499,
            0.364341065798817,
            0.4558445428731741,
            0.6258241156937853,
            0.5565001591276154,
            0.4762123660928846,
            0.698964674530999,
            0.4053193567377349,
            0.4294659654920859,
            0.5984854644556219,
            0.6898848077976206,
            0.4660241540706306,
            0.7567663606655737,
            0.6893261967890804,
            0.4027485507341818,
            0.3160726675232211,
            0.5450234213096578,
            0.5090096263864126,
            0.3136445217288742,
            0.627067543523131,
            0.6048009711124263,
            0.4114606416224942,
            0.3272120613307892,
            0.4508426987669187,
            0.4365369543167563,
            0.4351882858803488,
            0.4873011508793926,
            0.6553298521146043,
            0.2463467223408892,
            0.6540064228000888,
            0.5267847856283531,
            0.6248482602843604,
            0.5093680078184192,
            0.5787140455811215,
            0.8549489712660003,
            0.5435362673149564,
            0.4475171934803702,
            0.6096158422840292,
            0.3490872993183736,
            0.5064325040700844,
            0.4089374660587713,
            0.5103313211436651,
            0.4640021544269874,
            0.5400973133957662,
            0.5325942281982944,
            0.3439898944965244,
            0.6596835886270487,
            0.6422995761949135,
            0.3226757464202977,
            0.6382316190935432,
            0.4153942106557978,
            0.4276784934724291,
            0.431373254848531,
            0.3993017127374322,
            0.3933045478174321,
            0.3533827230257571,
            0.6356891853240133
           ]
          }
         ],
         "hovertemplate": "type=Goblin<br>%{xaxis.title.text}=%{x}<br>%{yaxis.title.text}=%{y}<extra></extra>",
         "legendgroup": "Goblin",
         "marker": {
          "color": "#EF553B",
          "symbol": "circle"
         },
         "name": "Goblin",
         "showlegend": true,
         "type": "splom"
        },
        {
         "dimensions": [
          {
           "axis": {
            "matches": true
           },
           "label": "bone_length",
           "values": [
            0.56611660205779,
            0.3142952759201916,
            0.2809417440979105,
            0.2507699997704333,
            0.5240803802397399,
            0.2290099048694253,
            0.4650939478113308,
            0.4563710403972941,
            0.3949581951173462,
            0.2880500976676626,
            0.4569351560214406,
            0.5342663533189846,
            0.268141288100927,
            0.4451317166643472,
            0.397258025900726,
            0.3043015261984808,
            0.5042364852535262,
            0.6096342602281953,
            0.424968992569728,
            0.3114182158972507,
            0.3907691600665572,
            0.3489914240082382,
            0.2370457471214508,
            0.5185598890791936,
            0.4869701692454384,
            0.5168138020971651,
            0.3751966948379099,
            0.1970706602286833,
            0.3415388791939475,
            0.3135062136463118,
            0.4717644966252061,
            0.2078738482492294,
            0.318316195910614,
            0.5198274000967964,
            0.2987971154664525,
            0.3179382931526625,
            0.4809411831883035,
            0.365032200646103,
            0.2955754351347911,
            0.5724939664603133,
            0.3733050871065359,
            0.4113532318763664,
            0.5981661180958543,
            0.3033905089671853,
            0.3262947716331351,
            0.4212165789711813,
            0.3329053684891241,
            0.2918155291243502,
            0.3215295334810629,
            0.2505228367580467,
            0.1929085720034292,
            0.306695276031629,
            0.4039945561609049,
            0.2247975441428196,
            0.4811412516657063,
            0.327031355299676,
            0.0610318174675915,
            0.1450707636810195,
            0.1009445515509307,
            0.3404421097879367,
            0.3060435284045266,
            0.5072903108860567,
            0.2088849510078684,
            0.2717349813738951,
            0.4521262527231393,
            0.2488544511921411,
            0.3998389632819645,
            0.4151419193496131,
            0.2725232044172437,
            0.3283443266222831,
            0.4082384968547247,
            0.3104620322934717,
            0.3901449022726327,
            0.1689085003938734,
            0.4753163597993992,
            0.3677989588298081,
            0.323612623781796,
            0.3910359826248366,
            0.3648165456131974,
            0.1841809742741317,
            0.2697484182873138,
            0.1604646938640709,
            0.2519320634011813,
            0.4044237905739608,
            0.3955756940744827,
            0.3852189472708037,
            0.5022290294565924,
            0.6223714683898102,
            0.5037801049216418,
            0.3741484261114667,
            0.1841718479053877,
            0.3906694290697766,
            0.2464147577793823,
            0.1843826774241877,
            0.3321342791974178,
            0.4057030619281113,
            0.4172527547569121,
            0.1677984879168454,
            0.5005233083711402,
            0.3540466893295677,
            0.1736069506984055,
            0.1946549336962759,
            0.1877805300065898,
            0.2172482574004319,
            0.3969883320489408,
            0.3618667061171297,
            0.168644469580262,
            0.376472952085311,
            0.2798745118127758,
            0.1651963889117372,
            0.3323744700041184,
            0.2030734301142651,
            0.3569985378992515,
            0.4404317315532128,
            0.5075829141004433,
            0.3319360874530467,
            0.2949429482572135
           ]
          },
          {
           "axis": {
            "matches": true
           },
           "label": "rotting_flesh",
           "values": [
            0.8758617955062562,
            0.6712796900808566,
            0.7014574929942134,
            0.2462576855648545,
            0.750988138270072,
            0.5673132984183307,
            0.4393232486218925,
            0.456207522246787,
            0.5739411817580686,
            0.6037797214759668,
            0.6271412086659317,
            0.5695044916511958,
            0.6652239196235308,
            0.9324660949062564,
            0.6729848049771036,
            0.4630147238334417,
            0.6207580903425556,
            0.6460369600561043,
            0.2402987129911261,
            0.8154660553409373,
            0.8017205790038657,
            0.5642329962952519,
            0.6346434213160785,
            0.80851369252322,
            0.5116166152561679,
            0.4637075753844064,
            0.7429532573402512,
            0.4556863326723576,
            0.6891394813961645,
            0.6168030074339836,
            0.8014650017737079,
            0.5452936782968371,
            0.6617520007068656,
            0.5684410219497119,
            0.5533702745196366,
            0.652679852191937,
            0.742554747375239,
            0.5243581561868756,
            0.4337794887819349,
            0.5163349364085007,
            0.7690334042494513,
            0.4926212497215249,
            0.5937412278353883,
            0.4762170807794643,
            0.5145990861833679,
            0.5491650001888863,
            0.4948954831566405,
            0.4984004409325759,
            0.4568228038560695,
            0.6505063231898652,
            0.5040901836090697,
            0.5439048757110356,
            0.6826874128762553,
            0.606908116591905,
            0.696810441096866,
            0.6084808047653021,
            0.5785669708276374,
            0.3950601309303976,
            0.6955645046333692,
            0.5317012897841024,
            0.531350036062993,
            0.7081737124336747,
            0.399537469172775,
            0.5951913758590217,
            0.6366255253835791,
            0.5548717595498727,
            0.7239709821866331,
            0.620148623355317,
            0.3893524357424867,
            0.6799343781401656,
            0.7409136729361053,
            0.5676807557018035,
            0.5541143176301444,
            0.6488664701193185,
            0.5292097601138374,
            0.6374462876528123,
            0.4313123679130229,
            0.5060606049780997,
            0.8115825388304456,
            0.6316068674312417,
            0.6271383744405528,
            0.6966459646817084,
            0.6490307819787063,
            0.4645042419316484,
            0.7985902072753048,
            0.7122195520162983,
            0.504398928842993,
            0.3852040125194582,
            0.9294395870026004,
            0.3445898049559149,
            0.7151309235869638,
            0.8411202998055716,
            0.4095958964838422,
            0.4789368061301901,
            0.5773210446027128,
            0.6232729261275476,
            0.6249732499858772,
            0.8122929096234279,
            0.3901657550430394,
            0.5407519997390765,
            0.5896128668034745,
            0.4568400930420949,
            0.7364910458587844,
            0.4987182711237047,
            0.6111090023462676,
            0.5656799531870303,
            0.3130094700952347,
            0.6463723195360589,
            0.6564201941998399,
            0.716798254758944,
            0.6052062408602683,
            0.1655389473014981,
            0.6713307566237863,
            0.3094978182468445,
            0.7996232644844037,
            0.5648357793659164,
            0.7712861562498676
           ]
          },
          {
           "axis": {
            "matches": true
           },
           "label": "hair_length",
           "values": [
            0.4185936708748796,
            0.4172669166262837,
            0.1796332951168527,
            0.5546544421413162,
            0.5246370241727257,
            0.3737434190675078,
            0.2493371056309895,
            0.2363315402934902,
            0.4790941518551199,
            0.473956164160065,
            0.4637936467899993,
            0.5066109316216567,
            0.2349438320381451,
            0.2187315417015251,
            0.5516643383579455,
            0.3853868557785362,
            0.3410744137269793,
            0.2437552812322784,
            0.3386778672633181,
            0.4610676058384106,
            0.2052363255231178,
            0.4811904007635504,
            0.2906553190256964,
            0.3239206175746259,
            0.3651420442153378,
            0.3218666509759288,
            0.3207643667068983,
            0.4514895721192367,
            0.3139479672049924,
            0.3964819211799767,
            0.2306190615329712,
            0.3579873822644758,
            0.47646865712531,
            0.4341712308544054,
            0.3066823430350168,
            0.3900567463337536,
            0.32906119541444,
            0.3284001364274935,
            0.4626285838932552,
            0.4630626092109058,
            0.5405491438378014,
            0.4377453223826534,
            0.3571884062926715,
            0.597166809659954,
            0.3816550953050476,
            0.4741284357838143,
            0.4747881424513825,
            0.5876280121451709,
            0.3201452795039712,
            0.3849252739965028,
            0.3836788202425789,
            0.2530289743046057,
            0.372529062910916,
            0.4467212961211418,
            0.1626113404419526,
            0.3104686239329647,
            0.4154396195689134,
            0.3338835278403494,
            0.2356688068470746,
            0.4284977335487106,
            0.2665900033908182,
            0.2591668565055055,
            0.4217035629833128,
            0.1768821916057256,
            0.1627147242494507,
            0.506319610394718,
            0.3605797954313112,
            0.3137928944501894,
            0.1640738194063587,
            0.3532766829724776,
            0.3489371301868126,
            0.194400109160664,
            0.5519699106914849,
            0.3039274085244652,
            0.3073575328688198,
            0.4163537370578704,
            0.2050967323077951,
            0.2522955610769081,
            0.3325456764268887,
            0.4531626063046927,
            0.1953651811382809,
            0.4089450310087078,
            0.1643205780645732,
            0.5044171539802028,
            0.3308218889265523,
            0.3918804342554825,
            0.2635489646612248,
            0.3089947199874907,
            0.3664606599964958,
            0.6363397309473561,
            0.1346003625956473,
            0.1950720821281122,
            0.5386424792099368,
            0.3743963341928218,
            0.4458596184119873,
            0.2985685239214783,
            0.3287520789411103,
            0.5073605910023625,
            0.4575028379481982,
            0.5712096006938082,
            0.3634385458746502,
            0.4148836098096881,
            0.3443478996707319,
            0.3315312040178976,
            0.5072143527884544,
            0.4192265518026262,
            0.4436390218448215,
            0.609449079243181,
            0.6290679358102901,
            0.4687553518777524,
            0.2992346705676879,
            0.2995069579313811,
            0.2967838630001996,
            0.2030569347350796,
            0.3345200230296363,
            0.5392155253895515,
            0.5835025434061195
           ]
          },
          {
           "axis": {
            "matches": true
           },
           "label": "has_soul",
           "values": [
            0.6364378187279373,
            0.2275475750972251,
            0.1411826507100036,
            0.2500355193334616,
            0.4433583431154124,
            0.3296358811256823,
            0.1973817900366121,
            0.3004857328309415,
            0.4826926871359688,
            0.4082938233981211,
            0.4362160533497054,
            0.2683154656682969,
            0.3216226096769483,
            0.0433212009255868,
            0.1593670043648448,
            0.2193125275944253,
            0.3485782632164919,
            0.3482399469310024,
            0.0889244709798438,
            0.1271486012819079,
            0.1278768795128998,
            0.177172419325805,
            0.3042831010111143,
            0.5745054710533029,
            0.1715391821159406,
            0.0094016158786619,
            0.2434395068656316,
            0.4175156742278211,
            0.055464022849426,
            0.4479461449165569,
            0.2850665553974325,
            0.4840546343724389,
            0.2331355777366279,
            0.3518509542111916,
            0.3608534668174701,
            0.2936316647964402,
            0.4299330240052756,
            0.3259061874219192,
            0.0364572223789816,
            0.2910043295465112,
            0.495465570851785,
            0.2761631226500659,
            0.2601604796771369,
            0.292292888616969,
            0.420199005042207,
            0.4259933073478842,
            0.5149436616217669,
            0.23796628009425,
            0.4151553339725777,
            0.3858816614586571,
            0.3075337519855106,
            0.385886526396036,
            0.4995204310577366,
            0.4122325749081624,
            0.4534650235972716,
            0.3566989716589245,
            0.4970978901051466,
            0.2867734175724535,
            0.0644682675100267,
            0.2630632747085554,
            0.3076300030568211,
            0.2091293587758531,
            0.2168002949099024,
            0.2872897954043422,
            0.0999041666877589,
            0.0894021549771662,
            0.3639124829196237,
            0.4180526144087382,
            0.5940883374580593,
            0.1794375417543184,
            0.3486614628789351,
            0.2645622676182196,
            0.3170772946370197,
            0.2554399348818104,
            0.2303608171161942,
            0.4159298561467601,
            0.2576167455866692,
            0.3477648971789816,
            0.1612549398420233,
            0.431741682033267,
            0.367901682802343,
            0.2171466588930796,
            0.3006585885252317,
            0.4090031672887874,
            0.2040038550762471,
            0.4173443132622753,
            0.1216866926106156,
            0.2955094670285272,
            0.4015665096500681,
            0.2481432621832248,
            0.2270684068617264,
            0.3076679008815882,
            0.084828839477442,
            0.5217296004701502,
            0.4095255001942346,
            0.1611269986064954,
            0.2796675314611779,
            0.4146968185712928,
            0.3464742940842629,
            0.2437753043181011,
            0.6141577482798738,
            0.2880532532927864,
            0.3463062462505728,
            0.5232825307796921,
            0.1796421921347163,
            0.5193612257496387,
            0.539799547425459,
            0.3842929461674824,
            0.2920598869669624,
            0.2536237179172178,
            0.5700730854855057,
            0.4258022263267003,
            0.6899803696223118,
            0.1941049950833807,
            0.3444034758439047,
            0.5514705080053851,
            0.3006180390267751
           ]
          }
         ],
         "hovertemplate": "type=Ghost<br>%{xaxis.title.text}=%{x}<br>%{yaxis.title.text}=%{y}<extra></extra>",
         "legendgroup": "Ghost",
         "marker": {
          "color": "#00cc96",
          "symbol": "circle"
         },
         "name": "Ghost",
         "showlegend": true,
         "type": "splom"
        }
       ],
       "layout": {
        "dragmode": "select",
        "legend": {
         "title": {
          "text": "type"
         },
         "tracegroupgap": 0
        },
        "margin": {
         "t": 60
        },
        "template": {
         "data": {
          "bar": [
           {
            "error_x": {
             "color": "#2a3f5f"
            },
            "error_y": {
             "color": "#2a3f5f"
            },
            "marker": {
             "line": {
              "color": "#E5ECF6",
              "width": 0.5
             },
             "pattern": {
              "fillmode": "overlay",
              "size": 10,
              "solidity": 0.2
             }
            },
            "type": "bar"
           }
          ],
          "barpolar": [
           {
            "marker": {
             "line": {
              "color": "#E5ECF6",
              "width": 0.5
             },
             "pattern": {
              "fillmode": "overlay",
              "size": 10,
              "solidity": 0.2
             }
            },
            "type": "barpolar"
           }
          ],
          "carpet": [
           {
            "aaxis": {
             "endlinecolor": "#2a3f5f",
             "gridcolor": "white",
             "linecolor": "white",
             "minorgridcolor": "white",
             "startlinecolor": "#2a3f5f"
            },
            "baxis": {
             "endlinecolor": "#2a3f5f",
             "gridcolor": "white",
             "linecolor": "white",
             "minorgridcolor": "white",
             "startlinecolor": "#2a3f5f"
            },
            "type": "carpet"
           }
          ],
          "choropleth": [
           {
            "colorbar": {
             "outlinewidth": 0,
             "ticks": ""
            },
            "type": "choropleth"
           }
          ],
          "contour": [
           {
            "colorbar": {
             "outlinewidth": 0,
             "ticks": ""
            },
            "colorscale": [
             [
              0,
              "#0d0887"
             ],
             [
              0.1111111111111111,
              "#46039f"
             ],
             [
              0.2222222222222222,
              "#7201a8"
             ],
             [
              0.3333333333333333,
              "#9c179e"
             ],
             [
              0.4444444444444444,
              "#bd3786"
             ],
             [
              0.5555555555555556,
              "#d8576b"
             ],
             [
              0.6666666666666666,
              "#ed7953"
             ],
             [
              0.7777777777777778,
              "#fb9f3a"
             ],
             [
              0.8888888888888888,
              "#fdca26"
             ],
             [
              1,
              "#f0f921"
             ]
            ],
            "type": "contour"
           }
          ],
          "contourcarpet": [
           {
            "colorbar": {
             "outlinewidth": 0,
             "ticks": ""
            },
            "type": "contourcarpet"
           }
          ],
          "heatmap": [
           {
            "colorbar": {
             "outlinewidth": 0,
             "ticks": ""
            },
            "colorscale": [
             [
              0,
              "#0d0887"
             ],
             [
              0.1111111111111111,
              "#46039f"
             ],
             [
              0.2222222222222222,
              "#7201a8"
             ],
             [
              0.3333333333333333,
              "#9c179e"
             ],
             [
              0.4444444444444444,
              "#bd3786"
             ],
             [
              0.5555555555555556,
              "#d8576b"
             ],
             [
              0.6666666666666666,
              "#ed7953"
             ],
             [
              0.7777777777777778,
              "#fb9f3a"
             ],
             [
              0.8888888888888888,
              "#fdca26"
             ],
             [
              1,
              "#f0f921"
             ]
            ],
            "type": "heatmap"
           }
          ],
          "heatmapgl": [
           {
            "colorbar": {
             "outlinewidth": 0,
             "ticks": ""
            },
            "colorscale": [
             [
              0,
              "#0d0887"
             ],
             [
              0.1111111111111111,
              "#46039f"
             ],
             [
              0.2222222222222222,
              "#7201a8"
             ],
             [
              0.3333333333333333,
              "#9c179e"
             ],
             [
              0.4444444444444444,
              "#bd3786"
             ],
             [
              0.5555555555555556,
              "#d8576b"
             ],
             [
              0.6666666666666666,
              "#ed7953"
             ],
             [
              0.7777777777777778,
              "#fb9f3a"
             ],
             [
              0.8888888888888888,
              "#fdca26"
             ],
             [
              1,
              "#f0f921"
             ]
            ],
            "type": "heatmapgl"
           }
          ],
          "histogram": [
           {
            "marker": {
             "pattern": {
              "fillmode": "overlay",
              "size": 10,
              "solidity": 0.2
             }
            },
            "type": "histogram"
           }
          ],
          "histogram2d": [
           {
            "colorbar": {
             "outlinewidth": 0,
             "ticks": ""
            },
            "colorscale": [
             [
              0,
              "#0d0887"
             ],
             [
              0.1111111111111111,
              "#46039f"
             ],
             [
              0.2222222222222222,
              "#7201a8"
             ],
             [
              0.3333333333333333,
              "#9c179e"
             ],
             [
              0.4444444444444444,
              "#bd3786"
             ],
             [
              0.5555555555555556,
              "#d8576b"
             ],
             [
              0.6666666666666666,
              "#ed7953"
             ],
             [
              0.7777777777777778,
              "#fb9f3a"
             ],
             [
              0.8888888888888888,
              "#fdca26"
             ],
             [
              1,
              "#f0f921"
             ]
            ],
            "type": "histogram2d"
           }
          ],
          "histogram2dcontour": [
           {
            "colorbar": {
             "outlinewidth": 0,
             "ticks": ""
            },
            "colorscale": [
             [
              0,
              "#0d0887"
             ],
             [
              0.1111111111111111,
              "#46039f"
             ],
             [
              0.2222222222222222,
              "#7201a8"
             ],
             [
              0.3333333333333333,
              "#9c179e"
             ],
             [
              0.4444444444444444,
              "#bd3786"
             ],
             [
              0.5555555555555556,
              "#d8576b"
             ],
             [
              0.6666666666666666,
              "#ed7953"
             ],
             [
              0.7777777777777778,
              "#fb9f3a"
             ],
             [
              0.8888888888888888,
              "#fdca26"
             ],
             [
              1,
              "#f0f921"
             ]
            ],
            "type": "histogram2dcontour"
           }
          ],
          "mesh3d": [
           {
            "colorbar": {
             "outlinewidth": 0,
             "ticks": ""
            },
            "type": "mesh3d"
           }
          ],
          "parcoords": [
           {
            "line": {
             "colorbar": {
              "outlinewidth": 0,
              "ticks": ""
             }
            },
            "type": "parcoords"
           }
          ],
          "pie": [
           {
            "automargin": true,
            "type": "pie"
           }
          ],
          "scatter": [
           {
            "marker": {
             "colorbar": {
              "outlinewidth": 0,
              "ticks": ""
             }
            },
            "type": "scatter"
           }
          ],
          "scatter3d": [
           {
            "line": {
             "colorbar": {
              "outlinewidth": 0,
              "ticks": ""
             }
            },
            "marker": {
             "colorbar": {
              "outlinewidth": 0,
              "ticks": ""
             }
            },
            "type": "scatter3d"
           }
          ],
          "scattercarpet": [
           {
            "marker": {
             "colorbar": {
              "outlinewidth": 0,
              "ticks": ""
             }
            },
            "type": "scattercarpet"
           }
          ],
          "scattergeo": [
           {
            "marker": {
             "colorbar": {
              "outlinewidth": 0,
              "ticks": ""
             }
            },
            "type": "scattergeo"
           }
          ],
          "scattergl": [
           {
            "marker": {
             "colorbar": {
              "outlinewidth": 0,
              "ticks": ""
             }
            },
            "type": "scattergl"
           }
          ],
          "scattermapbox": [
           {
            "marker": {
             "colorbar": {
              "outlinewidth": 0,
              "ticks": ""
             }
            },
            "type": "scattermapbox"
           }
          ],
          "scatterpolar": [
           {
            "marker": {
             "colorbar": {
              "outlinewidth": 0,
              "ticks": ""
             }
            },
            "type": "scatterpolar"
           }
          ],
          "scatterpolargl": [
           {
            "marker": {
             "colorbar": {
              "outlinewidth": 0,
              "ticks": ""
             }
            },
            "type": "scatterpolargl"
           }
          ],
          "scatterternary": [
           {
            "marker": {
             "colorbar": {
              "outlinewidth": 0,
              "ticks": ""
             }
            },
            "type": "scatterternary"
           }
          ],
          "surface": [
           {
            "colorbar": {
             "outlinewidth": 0,
             "ticks": ""
            },
            "colorscale": [
             [
              0,
              "#0d0887"
             ],
             [
              0.1111111111111111,
              "#46039f"
             ],
             [
              0.2222222222222222,
              "#7201a8"
             ],
             [
              0.3333333333333333,
              "#9c179e"
             ],
             [
              0.4444444444444444,
              "#bd3786"
             ],
             [
              0.5555555555555556,
              "#d8576b"
             ],
             [
              0.6666666666666666,
              "#ed7953"
             ],
             [
              0.7777777777777778,
              "#fb9f3a"
             ],
             [
              0.8888888888888888,
              "#fdca26"
             ],
             [
              1,
              "#f0f921"
             ]
            ],
            "type": "surface"
           }
          ],
          "table": [
           {
            "cells": {
             "fill": {
              "color": "#EBF0F8"
             },
             "line": {
              "color": "white"
             }
            },
            "header": {
             "fill": {
              "color": "#C8D4E3"
             },
             "line": {
              "color": "white"
             }
            },
            "type": "table"
           }
          ]
         },
         "layout": {
          "annotationdefaults": {
           "arrowcolor": "#2a3f5f",
           "arrowhead": 0,
           "arrowwidth": 1
          },
          "autotypenumbers": "strict",
          "coloraxis": {
           "colorbar": {
            "outlinewidth": 0,
            "ticks": ""
           }
          },
          "colorscale": {
           "diverging": [
            [
             0,
             "#8e0152"
            ],
            [
             0.1,
             "#c51b7d"
            ],
            [
             0.2,
             "#de77ae"
            ],
            [
             0.3,
             "#f1b6da"
            ],
            [
             0.4,
             "#fde0ef"
            ],
            [
             0.5,
             "#f7f7f7"
            ],
            [
             0.6,
             "#e6f5d0"
            ],
            [
             0.7,
             "#b8e186"
            ],
            [
             0.8,
             "#7fbc41"
            ],
            [
             0.9,
             "#4d9221"
            ],
            [
             1,
             "#276419"
            ]
           ],
           "sequential": [
            [
             0,
             "#0d0887"
            ],
            [
             0.1111111111111111,
             "#46039f"
            ],
            [
             0.2222222222222222,
             "#7201a8"
            ],
            [
             0.3333333333333333,
             "#9c179e"
            ],
            [
             0.4444444444444444,
             "#bd3786"
            ],
            [
             0.5555555555555556,
             "#d8576b"
            ],
            [
             0.6666666666666666,
             "#ed7953"
            ],
            [
             0.7777777777777778,
             "#fb9f3a"
            ],
            [
             0.8888888888888888,
             "#fdca26"
            ],
            [
             1,
             "#f0f921"
            ]
           ],
           "sequentialminus": [
            [
             0,
             "#0d0887"
            ],
            [
             0.1111111111111111,
             "#46039f"
            ],
            [
             0.2222222222222222,
             "#7201a8"
            ],
            [
             0.3333333333333333,
             "#9c179e"
            ],
            [
             0.4444444444444444,
             "#bd3786"
            ],
            [
             0.5555555555555556,
             "#d8576b"
            ],
            [
             0.6666666666666666,
             "#ed7953"
            ],
            [
             0.7777777777777778,
             "#fb9f3a"
            ],
            [
             0.8888888888888888,
             "#fdca26"
            ],
            [
             1,
             "#f0f921"
            ]
           ]
          },
          "colorway": [
           "#636efa",
           "#EF553B",
           "#00cc96",
           "#ab63fa",
           "#FFA15A",
           "#19d3f3",
           "#FF6692",
           "#B6E880",
           "#FF97FF",
           "#FECB52"
          ],
          "font": {
           "color": "#2a3f5f"
          },
          "geo": {
           "bgcolor": "white",
           "lakecolor": "white",
           "landcolor": "#E5ECF6",
           "showlakes": true,
           "showland": true,
           "subunitcolor": "white"
          },
          "hoverlabel": {
           "align": "left"
          },
          "hovermode": "closest",
          "mapbox": {
           "style": "light"
          },
          "paper_bgcolor": "white",
          "plot_bgcolor": "#E5ECF6",
          "polar": {
           "angularaxis": {
            "gridcolor": "white",
            "linecolor": "white",
            "ticks": ""
           },
           "bgcolor": "#E5ECF6",
           "radialaxis": {
            "gridcolor": "white",
            "linecolor": "white",
            "ticks": ""
           }
          },
          "scene": {
           "xaxis": {
            "backgroundcolor": "#E5ECF6",
            "gridcolor": "white",
            "gridwidth": 2,
            "linecolor": "white",
            "showbackground": true,
            "ticks": "",
            "zerolinecolor": "white"
           },
           "yaxis": {
            "backgroundcolor": "#E5ECF6",
            "gridcolor": "white",
            "gridwidth": 2,
            "linecolor": "white",
            "showbackground": true,
            "ticks": "",
            "zerolinecolor": "white"
           },
           "zaxis": {
            "backgroundcolor": "#E5ECF6",
            "gridcolor": "white",
            "gridwidth": 2,
            "linecolor": "white",
            "showbackground": true,
            "ticks": "",
            "zerolinecolor": "white"
           }
          },
          "shapedefaults": {
           "line": {
            "color": "#2a3f5f"
           }
          },
          "ternary": {
           "aaxis": {
            "gridcolor": "white",
            "linecolor": "white",
            "ticks": ""
           },
           "baxis": {
            "gridcolor": "white",
            "linecolor": "white",
            "ticks": ""
           },
           "bgcolor": "#E5ECF6",
           "caxis": {
            "gridcolor": "white",
            "linecolor": "white",
            "ticks": ""
           }
          },
          "title": {
           "x": 0.05
          },
          "xaxis": {
           "automargin": true,
           "gridcolor": "white",
           "linecolor": "white",
           "ticks": "",
           "title": {
            "standoff": 15
           },
           "zerolinecolor": "white",
           "zerolinewidth": 2
          },
          "yaxis": {
           "automargin": true,
           "gridcolor": "white",
           "linecolor": "white",
           "ticks": "",
           "title": {
            "standoff": 15
           },
           "zerolinecolor": "white",
           "zerolinewidth": 2
          }
         }
        }
       }
      },
      "text/html": [
       "<div>                            <div id=\"925ad2de-0762-472a-9e19-5f76bbbf37c5\" class=\"plotly-graph-div\" style=\"height:525px; width:100%;\"></div>            <script type=\"text/javascript\">                require([\"plotly\"], function(Plotly) {                    window.PLOTLYENV=window.PLOTLYENV || {};                                    if (document.getElementById(\"925ad2de-0762-472a-9e19-5f76bbbf37c5\")) {                    Plotly.newPlot(                        \"925ad2de-0762-472a-9e19-5f76bbbf37c5\",                        [{\"dimensions\":[{\"axis\":{\"matches\":true},\"label\":\"bone_length\",\"values\":[0.3545121845821541,0.467875498742323,0.776652460655474,0.5162238981116547,0.584543226402469,0.3907121285960714,0.5001965520236578,0.5855593168709793,0.6058359561481175,0.4726032938231003,0.3433496058239474,0.6872555002914946,0.6729770643554356,0.5581960768300526,0.6363467701119719,0.5642817569821001,0.4151096964698842,0.3141428773386546,0.4817163588057449,0.5716187693902656,0.4954670559912866,0.5126766858793707,0.7535051395445669,0.6654319716727949,0.6441755544149369,0.2275320914606136,0.3152760326328197,0.5102421707697722,0.5861772994209699,0.6313272032845839,0.501305752172094,0.5147166050287932,0.521779901441308,0.6008978671842379,0.3508380816775922,0.4406963474555094,0.4507593196196853,0.4967339773850895,0.5325901084246948,0.587570659847358,0.4720591455885397,0.4440092595626775,0.3513153022774596,0.4349977494520962,0.6091606601249137,0.6671816209592498,0.5841766673316365,0.4161517532856235,0.5349876694608388,0.6694190901475464,0.5598250745457363,0.6304705900407669,0.8170014327207992,0.5408063266621841,0.4896277054256568,0.5107041762420627,0.5655213379202007,0.3087546910594997,0.6816150258023715,0.3674193755313768,0.7308481259008561,0.5664239021619079,0.2966045215824983,0.42172073418984,0.3571453629923807,0.523832930184412,0.322303941310501,0.5055970065854175,0.489446322959167,0.4311850258585969,0.5182308394104409,0.5159845568291059,0.6277343663920077,0.6148994038783354,0.5244103827541664,0.3345520956409246,0.5237886449947281,0.6544882647955068,0.4996096456060792,0.4827161837683349,0.2007525650933715,0.7552975085362733,0.4308013866548665,0.5884133649804179,0.5862265848381086,0.5153971790364432,0.6133645269466709,0.5299845645400029,0.5903836895047814,0.4068335382007837,0.7613554112947414,0.4798184400763809,0.4624895790300461,0.4933947548278907,0.2323006781078838,0.4768916238529865,0.3582398592403725,0.6305854122728537,0.6870798464680745,0.7571377380956645,0.5400876338610013,0.5340006619939253,0.5212368917903017,0.5285356140406823,0.3870112735401417,0.6005569017635347,0.4219335411095097,0.4177761432660903,0.4223219616418998,0.6495590309746747,0.5710561840298457,0.5411810684466748,0.5160036963323632,0.3834889715343975,0.5115925357978953,0.3201754063428098,0.4396245808903376,0.4886321866874934,0.6266145629030311,0.7129132189757785,0.5025990844061363,0.4961396808820898,0.4348911277684966,0.6260168005606022,0.4677850248522497,0.5010218791127545,0.4060617791475717,0.4816397309789108,0.6701995355809963]},{\"axis\":{\"matches\":true},\"label\":\"rotting_flesh\",\"values\":[0.35083902671065,0.3543304203917748,0.5087225499432287,0.5364287456984622,0.5930819356156424,0.3350693972625707,0.4384181454387683,0.585938618841321,0.5879431786674414,0.4271505454280777,0.3974500258119089,0.3015761681272884,0.6204785539163591,0.5803627234695455,0.501060729410613,0.4195001329997656,0.4346160392215713,0.4217514012433346,0.5272508210222587,0.4319547492504906,0.5518773502059889,0.4174737785189097,0.5114129864982715,0.5648697805869589,0.5938440718774165,0.4910821279651651,0.5870527657111461,0.4033650680159029,0.4695342721294384,0.4117492485446649,0.5369953815809708,0.446317802784173,0.2776273196630995,0.4117295844307556,0.4546369544968154,0.4088721970010666,0.5426486748724326,0.5324864850401149,0.3756975484912491,0.4480597878912994,0.4939858508386243,0.416513187840329,0.4661335273167037,0.4126126083031732,0.7177670195132709,0.4141397988501861,0.4453502019297329,0.4180867866748625,0.4774191187499793,0.6725879228022708,0.6490876676431611,0.5810286766348954,0.4008079586715121,0.3233651839767509,0.552183344874835,0.6029320678907382,0.422096649509632,0.7050341195329825,0.5292274653728721,0.5752290600318004,0.5364557801829294,0.4311095936650269,0.3521568668219182,0.3203029521491927,0.4899314197129091,0.2809651043045211,0.5516586261954786,0.4510943725257459,0.4154849748957757,0.221793443545452,0.4944910151076158,0.4914966936736808,0.6520665637156676,0.7791525749422179,0.4003434154034117,0.500769296558434,0.6573167346106544,0.4393923976444442,0.4364747787846141,0.5614814659061313,0.2779447190113115,0.4759321550030602,0.5336139110410659,0.6562424436682945,0.4642843185201076,0.5617857657534445,0.4894378936383528,0.2597019865057757,0.514357511555222,0.4553102868830651,0.3314799509814848,0.5697617962416881,0.5748439666121937,0.501551767875182,0.4259669470678559,0.4785923544676903,0.3707745809664184,0.539712232484287,0.5360903383609764,0.5566020017570789,0.4815320826451627,0.5959918074276711,0.6087281979798949,0.5891397663212339,0.5270474691798911,0.4542131929675608,0.2504010945633725,0.3524301076993661,0.6730891842040043,0.5078463208836099,0.7298729011831669,0.3705810260156199,0.5275078933054959,0.5520484793694205,0.7293598080323525,0.6919286846064977,0.5141795140086365,0.5484730688109186,0.3898047732560749,0.5318919417691564,0.6041742947466081,0.377487567177927,0.6671597792809306,0.1721822570266518,0.4201354072298341,0.5848466079834541,0.4499437702553888,0.5011471150435187,0.7684686738777555]},{\"axis\":{\"matches\":true},\"label\":\"hair_length\",\"values\":[0.4657608918291205,0.8116160896689244,0.6367655799597881,0.6127761465851604,0.6811657623420384,0.5561094618022101,0.5325298147689491,1.0,0.529361248889943,0.5901301905716715,0.4788760240519573,0.7619487306930753,0.4357144772611028,0.7727343677011607,0.7377953702344142,0.6829307073109625,0.7074692453944934,0.6908889547102464,0.7402698805197881,0.6413094293590536,0.8093298419777889,0.678072186028185,0.6849794403737177,0.5959881099885534,0.7280790531235288,0.6168465079037313,0.4461893168527103,0.6904104961933827,0.7643118029629932,0.7076088912170572,0.6311991484505178,0.6224889268626522,0.7012144413253804,0.7177272978235335,0.7830008912984777,0.5419660479254961,0.7952065996029921,0.7097083496232938,0.5538274795707618,0.7063117660573961,0.5566914355021801,0.7187616727437887,0.75659427100265,0.7533312606217331,0.6588476466097875,0.5187103317800108,0.7143234732571501,0.8020772958890946,0.7193506301355973,0.8830876232400002,0.7592953828709256,0.6472514228287934,0.4370467247806591,0.6906053188576596,0.6796241520339236,0.5399453057165825,0.598681844667116,0.6434676262105207,0.6252424092532337,0.4749417583616708,0.4080655861465742,0.6845990131683044,0.90181023619074,0.427802093939081,0.6981899841474759,0.4756468209228535,0.8492113552790871,0.6839935981346329,0.825952917971847,0.4915352675044641,0.5454432529801341,0.9014667584893996,0.6556438273888984,0.4287174717773776,0.749885949104632,0.6826563169851186,0.8189792357764386,0.6211210491244005,0.5917520169235349,0.5314228814019432,0.5685342557786361,0.965568532709348,0.5285604037568403,0.8355006315499691,0.5997738555797856,0.5288184275146894,0.5808079950356857,0.7132363704280948,0.7148151920659093,0.2870075203943187,0.8610600925230152,0.7213623931192393,0.5980974741944622,0.6603668617061033,0.5778186741715855,0.4036303346402042,0.6673837050439432,0.3055797150261434,0.7516135247140048,0.7607364502095,0.7174795760309887,0.8501404673408831,0.946612014442891,0.6512166236569396,0.7657516183014328,0.5563310890474147,0.8511714670211034,0.6042644053259479,0.8293724953601913,0.7348547480537332,0.4211657028673038,0.7912264449001588,0.3548574295227587,0.5264208697412078,0.4929183046692216,0.5644936214175476,0.8161216310068317,0.5986208699715143,0.6207580446896525,0.7564647935134049,0.617954672131419,0.6472375551399165,0.7986176084369192,0.408421804580713,0.6318937148461823,0.6562302419663666,0.7889825792471347,0.4964462495029654,0.7372743479813444]},{\"axis\":{\"matches\":true},\"label\":\"has_soul\",\"values\":[0.78114166586219,0.791224973337769,0.8844636920976973,0.4680482696484728,0.9357213331107028,0.7842165804203274,0.6655224296568855,0.708691750060939,0.5267176472227212,0.3564882329332289,0.6218228827390226,0.5137787308603302,0.3287165853781181,0.3707403331814098,0.6955887530369675,0.4726900403323142,0.5263188963457769,0.4352449488897356,0.7008569048181902,0.4622948816175269,0.9077121347405334,0.7963323704355315,0.5015436658450332,0.6471415616675186,0.5617819587476738,0.4800460331707734,0.8008532560215341,0.4795252725047397,0.2808536942554318,0.7694553869322027,0.5911064565425131,0.7826990352369126,0.5675633245510552,0.5316405586386899,0.6744786043392166,0.5690111635288884,0.7394285224985448,0.6490072648772257,0.6794031601976999,0.5834153354713172,0.5637201631341431,0.5080565482452986,0.6092226071235277,0.6125769935483754,0.4663716652206057,0.4562133032583986,0.6502638308796707,0.4549219367786182,0.44744371634454,0.5244924107920369,0.6569434116684002,0.5052134266801225,0.6482301732469332,0.6984804653455878,0.6270302448657145,0.7663107982186453,0.6424059676312402,0.5837499669420213,0.6153082208134042,0.4484017950452802,0.7875127894149119,0.575277204012294,0.5411234740544943,0.5336957184844102,0.7536870809531032,0.6645758508325311,0.5170909693916612,0.7920717584189387,0.5034754896393583,0.2995110623516535,0.6003927412898974,0.4480635496432015,0.4591233182574153,0.7924097607153152,0.7626759520243293,0.6270858482985827,0.6245038929566373,0.7401986547089792,0.6596218307800241,0.5606587838094296,0.556149201619786,0.6359345971757204,0.3681480443948453,0.6361012301828235,0.8567568167671697,0.3735016571301501,0.5998460303550801,0.5996677875533437,0.6131141225129884,0.6416805442858692,0.7358968953394378,0.4919379191467224,0.4674467861467118,0.605896960260879,0.733815877405728,0.544586652208558,0.7405790642637972,0.7775196969582735,0.7259599419999203,0.5702604475625773,0.6947839601121377,0.7942472943179957,0.676992586402129,0.4121756662989291,0.6102976743553843,0.6931487489923561,0.5807525622359989,0.4091902593002075,0.5778361624373266,0.546648257094182,0.7854226316995812,0.4829132184080529,0.7604317994664286,0.7033103648544025,0.8031946198782922,0.4894910714495504,0.6514913737638149,0.5445659125918522,0.7125488314218412,0.4536338330897058,0.5935448602683817,0.4656888678867193,0.4600606006479525,0.6449405291466007,0.3865087470270767,0.4698857370086443,0.4285529910950088,0.5440032316400073,0.6083839550449307]}],\"hovertemplate\":\"type=Ghoul<br>%{xaxis.title.text}=%{x}<br>%{yaxis.title.text}=%{y}<extra></extra>\",\"legendgroup\":\"Ghoul\",\"marker\":{\"color\":\"#636efa\",\"symbol\":\"circle\"},\"name\":\"Ghoul\",\"showlegend\":true,\"type\":\"splom\"},{\"dimensions\":[{\"axis\":{\"matches\":true},\"label\":\"bone_length\",\"values\":[0.5755599050254655,0.405679744891883,0.399330850860438,0.4316852133394812,0.3515586720944532,0.5133872213931538,0.503164057832666,0.374448573799757,0.3885005478963415,0.4924381032273604,0.4116626945454133,0.3041977859670044,0.5545095992350249,0.5237285619471904,0.3849579750034331,0.2871931864179819,0.3628871069153425,0.2952291420624456,0.6276523661689718,0.6785187395803213,0.5152749837361404,0.622413651059006,0.2086251737392714,0.4909877679338796,0.4808360007818567,0.4983363846536767,0.485801814781045,0.3440868558121701,0.4645909855146808,0.3788110345115076,0.6194680108100487,0.5803025204175463,0.3654367072896388,0.4315007990246001,0.3059428946213542,0.252512821690625,0.4527408048904949,0.440854689448784,0.4767300230361486,0.4891323934260234,0.4538691895009534,0.2734580108777351,0.3395008141245191,0.5053752538799586,0.3877299926209585,0.6178324098326736,0.3583113280000451,0.3247693380948151,0.2971478482685644,0.3515617488056713,0.379547939481265,0.3842352341392903,0.3692739347589883,0.4244927698345165,0.5289868407342713,0.5277621870564683,0.329668208763034,0.4068796467950714,0.3899276800513611,0.2527332023614684,0.476768596926305,0.4307970001287445,0.4973169405876106,0.4460409758551139,0.5949939542985202,0.4532135030785801,0.5715019843857816,0.4984383302504508,0.47120115455526,0.4654233249019935,0.5254848998177738,0.5176317289678591,0.6221239910511766,0.3962978552150852,0.2279477968345748,0.4390632860190493,0.4036187136141595,0.4690199209184322,0.2850220936317743,0.2502931550286889,0.339569098440343,0.5241379236461077,0.2750211376626579,0.2844510413025236,0.3365734156264305,0.4510851028671813,0.3045185925967165,0.5871421359150822,0.4272175448421107,0.4763200416135701,0.20999665083892,0.5144303430623148,0.3810575128864099,0.491709701562399,0.4037272159825862,0.423953236847586,0.3550870183601146,0.4165771994283703,0.4764660777291431,0.4688407188928862,0.4409981585862939,0.3714221256048394,0.5778091112204605,0.3378043185749406,0.444005602311103,0.3225103262790144,0.4173001058933074,0.4839050876561649,0.5546624268278099,0.3425846004517803,0.4135764428639238,0.664432457376306,0.3777560832044784,0.3203642312313993,0.3238053473389625,0.6243882723635749,0.3462834483038663,0.3553127174590911,0.5529714816656802,0.3625668270307094,0.4401325118247183,0.4455471177513875,0.3774494817091187,0.4867440133136787,0.4581318644795705]},{\"axis\":{\"matches\":true},\"label\":\"rotting_flesh\",\"values\":[0.4258684322105845,0.253277496666039,0.5689517671030597,0.4389592731593482,0.4710781716572552,0.3013447615817322,0.464055333613106,0.3841831312845876,0.3423058488540095,0.6231972685456857,0.4540754660570032,0.2669042311479353,0.6306693955812395,0.3184827811959322,0.6157316442049253,0.5308524632922635,0.64872488487384,0.3318093785082954,0.840049257185007,0.4768210026454308,0.5826271870287086,0.4976141148296257,0.5192351448449374,0.5451445622258867,0.4079301522351624,0.3743743919162575,0.5719078529210007,0.2446619396923098,0.7154008068229857,0.3472874989749956,0.4656137262655644,0.1797270831682676,0.5131153911113325,0.3495548972395665,0.2875228152208341,0.4790928328070188,0.3841326097610991,0.4327103997843644,0.2424195416971536,0.4813039836446962,0.2597010316628004,0.4632385597037065,0.3369807418542262,0.3275780661167667,0.6595345001464734,0.2808683390927275,0.6217277259064756,0.2771099347866524,0.531544217494227,0.4574899181315408,0.3366204159135075,0.3934511376126063,0.7448295880889986,0.273025586846547,0.4961388668470776,0.6858696268930651,0.3319987444321495,0.4644902594238498,0.4027292855860745,0.4587455024137721,0.4384141063893932,0.4447872166811465,0.4715800497245867,0.2361419389059373,0.5274299447627853,0.4752234521836369,0.3157918707393884,0.6537834188650635,0.5685423320705383,0.0956866470016313,0.6677033349281426,0.3475661799907788,0.5856000107674431,0.4604070192512913,0.501056352063739,0.4905148603287027,0.5590108835403276,0.6210631049870445,0.4923153458956908,0.4088781830633378,0.4414899582612495,0.5781625799075041,0.6899749261931994,0.2202684682829915,0.2430919602050877,0.4645078697860929,0.3013289058485672,0.4204263094957165,0.5454233048791824,0.2862260846006159,0.4971123195299978,0.3084109800575708,0.7041682290839908,0.4636293903678197,0.3643664521794562,0.6145688510700718,0.4440244873210163,0.4585225271488922,0.5345811964008034,0.5174176217802128,0.2340513252885737,0.508111190483182,0.5003394585777345,0.3780925497718048,0.4241889939536255,0.4341013917051471,0.3775948819510494,0.5699170933679273,0.20867584728205,0.261752453992259,0.3568627094592894,0.3588398940306163,0.5935372360462214,0.2125377697764852,0.5059631966083168,0.6612348871907548,0.1587418624387186,0.3446838246030724,0.3411872125953227,0.639753416784588,0.3911570608294429,0.2411393719831536,0.4661578199733501,0.4626664876894513,0.3917598269859147]},{\"axis\":{\"matches\":true},\"label\":\"hair_length\",\"values\":[0.5314013787091408,0.4414196710726872,0.6183910202674578,0.2392124879973941,0.4844577817226679,0.7456755654684397,0.4977828029510476,0.6758683607952992,0.6696272909639486,0.6048791200547257,0.4080971534648053,0.5272248823714463,0.5924842265783549,0.3301456396587741,0.5695446230585894,0.4667249454869934,0.6311837728986085,0.5868540657573691,0.4148160632278105,0.477151808358027,0.5687211851289684,0.4654186935799081,0.6195587471733435,0.4925270324802118,0.5390045850320772,0.579925795870067,0.6565276392185239,0.5299634775383124,0.6235057827956325,0.6644342774170744,0.3679139233883964,0.5159266836490247,0.4680374498054059,0.4689364528322659,0.3367107120179355,0.6588470862855409,0.3055935585139359,0.6439888699324209,0.2942143044827539,0.4826913519554032,0.5814003518123008,0.4535154573557917,0.4924410100563741,0.6504305254894994,0.3561078481838985,0.5275759263590484,0.5594994385327345,0.8006455073380017,0.3120016037441498,0.5479770541342132,0.5132440884492735,0.3537460225757103,0.6539385877943338,0.3936569335886848,0.7169969375107043,0.5844348854528356,0.3964286740824388,0.5381458572290391,0.474254675734824,0.5968352850010129,0.5863935520579039,0.6301836580112177,0.3917703338386066,0.6209124499240235,0.4036303110740407,0.5587764002351772,0.765131104827964,0.3787065562118162,0.515442066863545,0.4067905221381402,0.3807165833455602,0.4272752269206539,0.5955294577342635,0.515815395861687,0.4711195157317104,0.6547214095239163,0.5897838964861386,0.641630555346056,0.7206782608955851,0.4566182375844146,0.4489891933979612,0.6217871470661697,0.5865127801377743,0.3574054492749826,0.2534588626743252,0.5058186231118217,0.5458802869535341,0.5612710788405073,0.6396500067877003,0.4888433654677488,0.6424505913910452,0.5332964096963335,0.5147490467097858,0.5594443924607964,0.6090040178878497,0.584209778754942,0.5353444823915584,0.7683330522823812,0.342815920723563,0.6209557115311447,0.5769116792804196,0.5911200104982167,0.7566291207477428,0.694287038730347,0.5496132061727924,0.5958799946619029,0.5418338647344139,0.6347676415210999,0.6538545201052042,0.5828646952080849,0.6585401835559873,0.666816451154938,0.5956286899543685,0.5925587890039019,0.4960383282659343,0.5744578178095248,0.7149870242277861,0.5557276505550555,0.6448010334120685,0.5362475723300909,0.57198307632316,0.5586141779285623,0.4973513849100462,0.8400125685822827,0.6605898989575533]},{\"axis\":{\"matches\":true},\"label\":\"has_soul\",\"values\":[0.439898877037289,0.2803238199213896,0.4679008345210921,0.4718195627187505,0.4653278802844954,0.5457922990384892,0.4720310491885279,0.4147003342395816,0.5386486690149674,0.3761415241524868,0.4329211406473242,0.3867134123693171,0.61536431261308,0.4274020872726478,0.4552847774447461,0.2999927060981274,0.4450454788106796,0.4908787937274375,0.4886172080770984,0.4893578586829505,0.5340786157865054,0.4591407549234579,0.2921310204613237,0.3023012050644125,0.495069123498046,0.511726043098702,0.465084500998666,0.3771214225861956,0.2965062830705051,0.5041788374944127,0.5358577412186541,0.6234190564594687,0.5460900739076539,0.1944133104434503,0.3180327182965733,0.3309152241162056,0.3718074755513306,0.3222355709868215,0.3177953129419818,0.4600806815642914,0.5678428976117842,0.3363903219681988,0.3455920106968366,0.5280153363603927,0.5509678477856494,0.6972681307061295,0.7616206764375024,0.3596816845870296,0.3826995550048712,0.3683700124904728,0.3710145909474462,0.4908843315183884,0.6759611115419202,0.3639073342700609,0.3325922146699069,0.5571361352049744,0.5071423107372529,0.6008270879099518,0.4193194969992285,0.6830894876636203,0.5833937494035416,0.6110125099756385,0.3676887196731881,0.612720425460397,0.2867936496225201,0.2305229311657603,0.5751389298780695,0.7089807908097879,0.3887911641110499,0.364341065798817,0.4558445428731741,0.6258241156937853,0.5565001591276154,0.4762123660928846,0.698964674530999,0.4053193567377349,0.4294659654920859,0.5984854644556219,0.6898848077976206,0.4660241540706306,0.7567663606655737,0.6893261967890804,0.4027485507341818,0.3160726675232211,0.5450234213096578,0.5090096263864126,0.3136445217288742,0.627067543523131,0.6048009711124263,0.4114606416224942,0.3272120613307892,0.4508426987669187,0.4365369543167563,0.4351882858803488,0.4873011508793926,0.6553298521146043,0.2463467223408892,0.6540064228000888,0.5267847856283531,0.6248482602843604,0.5093680078184192,0.5787140455811215,0.8549489712660003,0.5435362673149564,0.4475171934803702,0.6096158422840292,0.3490872993183736,0.5064325040700844,0.4089374660587713,0.5103313211436651,0.4640021544269874,0.5400973133957662,0.5325942281982944,0.3439898944965244,0.6596835886270487,0.6422995761949135,0.3226757464202977,0.6382316190935432,0.4153942106557978,0.4276784934724291,0.431373254848531,0.3993017127374322,0.3933045478174321,0.3533827230257571,0.6356891853240133]}],\"hovertemplate\":\"type=Goblin<br>%{xaxis.title.text}=%{x}<br>%{yaxis.title.text}=%{y}<extra></extra>\",\"legendgroup\":\"Goblin\",\"marker\":{\"color\":\"#EF553B\",\"symbol\":\"circle\"},\"name\":\"Goblin\",\"showlegend\":true,\"type\":\"splom\"},{\"dimensions\":[{\"axis\":{\"matches\":true},\"label\":\"bone_length\",\"values\":[0.56611660205779,0.3142952759201916,0.2809417440979105,0.2507699997704333,0.5240803802397399,0.2290099048694253,0.4650939478113308,0.4563710403972941,0.3949581951173462,0.2880500976676626,0.4569351560214406,0.5342663533189846,0.268141288100927,0.4451317166643472,0.397258025900726,0.3043015261984808,0.5042364852535262,0.6096342602281953,0.424968992569728,0.3114182158972507,0.3907691600665572,0.3489914240082382,0.2370457471214508,0.5185598890791936,0.4869701692454384,0.5168138020971651,0.3751966948379099,0.1970706602286833,0.3415388791939475,0.3135062136463118,0.4717644966252061,0.2078738482492294,0.318316195910614,0.5198274000967964,0.2987971154664525,0.3179382931526625,0.4809411831883035,0.365032200646103,0.2955754351347911,0.5724939664603133,0.3733050871065359,0.4113532318763664,0.5981661180958543,0.3033905089671853,0.3262947716331351,0.4212165789711813,0.3329053684891241,0.2918155291243502,0.3215295334810629,0.2505228367580467,0.1929085720034292,0.306695276031629,0.4039945561609049,0.2247975441428196,0.4811412516657063,0.327031355299676,0.0610318174675915,0.1450707636810195,0.1009445515509307,0.3404421097879367,0.3060435284045266,0.5072903108860567,0.2088849510078684,0.2717349813738951,0.4521262527231393,0.2488544511921411,0.3998389632819645,0.4151419193496131,0.2725232044172437,0.3283443266222831,0.4082384968547247,0.3104620322934717,0.3901449022726327,0.1689085003938734,0.4753163597993992,0.3677989588298081,0.323612623781796,0.3910359826248366,0.3648165456131974,0.1841809742741317,0.2697484182873138,0.1604646938640709,0.2519320634011813,0.4044237905739608,0.3955756940744827,0.3852189472708037,0.5022290294565924,0.6223714683898102,0.5037801049216418,0.3741484261114667,0.1841718479053877,0.3906694290697766,0.2464147577793823,0.1843826774241877,0.3321342791974178,0.4057030619281113,0.4172527547569121,0.1677984879168454,0.5005233083711402,0.3540466893295677,0.1736069506984055,0.1946549336962759,0.1877805300065898,0.2172482574004319,0.3969883320489408,0.3618667061171297,0.168644469580262,0.376472952085311,0.2798745118127758,0.1651963889117372,0.3323744700041184,0.2030734301142651,0.3569985378992515,0.4404317315532128,0.5075829141004433,0.3319360874530467,0.2949429482572135]},{\"axis\":{\"matches\":true},\"label\":\"rotting_flesh\",\"values\":[0.8758617955062562,0.6712796900808566,0.7014574929942134,0.2462576855648545,0.750988138270072,0.5673132984183307,0.4393232486218925,0.456207522246787,0.5739411817580686,0.6037797214759668,0.6271412086659317,0.5695044916511958,0.6652239196235308,0.9324660949062564,0.6729848049771036,0.4630147238334417,0.6207580903425556,0.6460369600561043,0.2402987129911261,0.8154660553409373,0.8017205790038657,0.5642329962952519,0.6346434213160785,0.80851369252322,0.5116166152561679,0.4637075753844064,0.7429532573402512,0.4556863326723576,0.6891394813961645,0.6168030074339836,0.8014650017737079,0.5452936782968371,0.6617520007068656,0.5684410219497119,0.5533702745196366,0.652679852191937,0.742554747375239,0.5243581561868756,0.4337794887819349,0.5163349364085007,0.7690334042494513,0.4926212497215249,0.5937412278353883,0.4762170807794643,0.5145990861833679,0.5491650001888863,0.4948954831566405,0.4984004409325759,0.4568228038560695,0.6505063231898652,0.5040901836090697,0.5439048757110356,0.6826874128762553,0.606908116591905,0.696810441096866,0.6084808047653021,0.5785669708276374,0.3950601309303976,0.6955645046333692,0.5317012897841024,0.531350036062993,0.7081737124336747,0.399537469172775,0.5951913758590217,0.6366255253835791,0.5548717595498727,0.7239709821866331,0.620148623355317,0.3893524357424867,0.6799343781401656,0.7409136729361053,0.5676807557018035,0.5541143176301444,0.6488664701193185,0.5292097601138374,0.6374462876528123,0.4313123679130229,0.5060606049780997,0.8115825388304456,0.6316068674312417,0.6271383744405528,0.6966459646817084,0.6490307819787063,0.4645042419316484,0.7985902072753048,0.7122195520162983,0.504398928842993,0.3852040125194582,0.9294395870026004,0.3445898049559149,0.7151309235869638,0.8411202998055716,0.4095958964838422,0.4789368061301901,0.5773210446027128,0.6232729261275476,0.6249732499858772,0.8122929096234279,0.3901657550430394,0.5407519997390765,0.5896128668034745,0.4568400930420949,0.7364910458587844,0.4987182711237047,0.6111090023462676,0.5656799531870303,0.3130094700952347,0.6463723195360589,0.6564201941998399,0.716798254758944,0.6052062408602683,0.1655389473014981,0.6713307566237863,0.3094978182468445,0.7996232644844037,0.5648357793659164,0.7712861562498676]},{\"axis\":{\"matches\":true},\"label\":\"hair_length\",\"values\":[0.4185936708748796,0.4172669166262837,0.1796332951168527,0.5546544421413162,0.5246370241727257,0.3737434190675078,0.2493371056309895,0.2363315402934902,0.4790941518551199,0.473956164160065,0.4637936467899993,0.5066109316216567,0.2349438320381451,0.2187315417015251,0.5516643383579455,0.3853868557785362,0.3410744137269793,0.2437552812322784,0.3386778672633181,0.4610676058384106,0.2052363255231178,0.4811904007635504,0.2906553190256964,0.3239206175746259,0.3651420442153378,0.3218666509759288,0.3207643667068983,0.4514895721192367,0.3139479672049924,0.3964819211799767,0.2306190615329712,0.3579873822644758,0.47646865712531,0.4341712308544054,0.3066823430350168,0.3900567463337536,0.32906119541444,0.3284001364274935,0.4626285838932552,0.4630626092109058,0.5405491438378014,0.4377453223826534,0.3571884062926715,0.597166809659954,0.3816550953050476,0.4741284357838143,0.4747881424513825,0.5876280121451709,0.3201452795039712,0.3849252739965028,0.3836788202425789,0.2530289743046057,0.372529062910916,0.4467212961211418,0.1626113404419526,0.3104686239329647,0.4154396195689134,0.3338835278403494,0.2356688068470746,0.4284977335487106,0.2665900033908182,0.2591668565055055,0.4217035629833128,0.1768821916057256,0.1627147242494507,0.506319610394718,0.3605797954313112,0.3137928944501894,0.1640738194063587,0.3532766829724776,0.3489371301868126,0.194400109160664,0.5519699106914849,0.3039274085244652,0.3073575328688198,0.4163537370578704,0.2050967323077951,0.2522955610769081,0.3325456764268887,0.4531626063046927,0.1953651811382809,0.4089450310087078,0.1643205780645732,0.5044171539802028,0.3308218889265523,0.3918804342554825,0.2635489646612248,0.3089947199874907,0.3664606599964958,0.6363397309473561,0.1346003625956473,0.1950720821281122,0.5386424792099368,0.3743963341928218,0.4458596184119873,0.2985685239214783,0.3287520789411103,0.5073605910023625,0.4575028379481982,0.5712096006938082,0.3634385458746502,0.4148836098096881,0.3443478996707319,0.3315312040178976,0.5072143527884544,0.4192265518026262,0.4436390218448215,0.609449079243181,0.6290679358102901,0.4687553518777524,0.2992346705676879,0.2995069579313811,0.2967838630001996,0.2030569347350796,0.3345200230296363,0.5392155253895515,0.5835025434061195]},{\"axis\":{\"matches\":true},\"label\":\"has_soul\",\"values\":[0.6364378187279373,0.2275475750972251,0.1411826507100036,0.2500355193334616,0.4433583431154124,0.3296358811256823,0.1973817900366121,0.3004857328309415,0.4826926871359688,0.4082938233981211,0.4362160533497054,0.2683154656682969,0.3216226096769483,0.0433212009255868,0.1593670043648448,0.2193125275944253,0.3485782632164919,0.3482399469310024,0.0889244709798438,0.1271486012819079,0.1278768795128998,0.177172419325805,0.3042831010111143,0.5745054710533029,0.1715391821159406,0.0094016158786619,0.2434395068656316,0.4175156742278211,0.055464022849426,0.4479461449165569,0.2850665553974325,0.4840546343724389,0.2331355777366279,0.3518509542111916,0.3608534668174701,0.2936316647964402,0.4299330240052756,0.3259061874219192,0.0364572223789816,0.2910043295465112,0.495465570851785,0.2761631226500659,0.2601604796771369,0.292292888616969,0.420199005042207,0.4259933073478842,0.5149436616217669,0.23796628009425,0.4151553339725777,0.3858816614586571,0.3075337519855106,0.385886526396036,0.4995204310577366,0.4122325749081624,0.4534650235972716,0.3566989716589245,0.4970978901051466,0.2867734175724535,0.0644682675100267,0.2630632747085554,0.3076300030568211,0.2091293587758531,0.2168002949099024,0.2872897954043422,0.0999041666877589,0.0894021549771662,0.3639124829196237,0.4180526144087382,0.5940883374580593,0.1794375417543184,0.3486614628789351,0.2645622676182196,0.3170772946370197,0.2554399348818104,0.2303608171161942,0.4159298561467601,0.2576167455866692,0.3477648971789816,0.1612549398420233,0.431741682033267,0.367901682802343,0.2171466588930796,0.3006585885252317,0.4090031672887874,0.2040038550762471,0.4173443132622753,0.1216866926106156,0.2955094670285272,0.4015665096500681,0.2481432621832248,0.2270684068617264,0.3076679008815882,0.084828839477442,0.5217296004701502,0.4095255001942346,0.1611269986064954,0.2796675314611779,0.4146968185712928,0.3464742940842629,0.2437753043181011,0.6141577482798738,0.2880532532927864,0.3463062462505728,0.5232825307796921,0.1796421921347163,0.5193612257496387,0.539799547425459,0.3842929461674824,0.2920598869669624,0.2536237179172178,0.5700730854855057,0.4258022263267003,0.6899803696223118,0.1941049950833807,0.3444034758439047,0.5514705080053851,0.3006180390267751]}],\"hovertemplate\":\"type=Ghost<br>%{xaxis.title.text}=%{x}<br>%{yaxis.title.text}=%{y}<extra></extra>\",\"legendgroup\":\"Ghost\",\"marker\":{\"color\":\"#00cc96\",\"symbol\":\"circle\"},\"name\":\"Ghost\",\"showlegend\":true,\"type\":\"splom\"}],                        {\"dragmode\":\"select\",\"legend\":{\"title\":{\"text\":\"type\"},\"tracegroupgap\":0},\"margin\":{\"t\":60},\"template\":{\"data\":{\"bar\":[{\"error_x\":{\"color\":\"#2a3f5f\"},\"error_y\":{\"color\":\"#2a3f5f\"},\"marker\":{\"line\":{\"color\":\"#E5ECF6\",\"width\":0.5},\"pattern\":{\"fillmode\":\"overlay\",\"size\":10,\"solidity\":0.2}},\"type\":\"bar\"}],\"barpolar\":[{\"marker\":{\"line\":{\"color\":\"#E5ECF6\",\"width\":0.5},\"pattern\":{\"fillmode\":\"overlay\",\"size\":10,\"solidity\":0.2}},\"type\":\"barpolar\"}],\"carpet\":[{\"aaxis\":{\"endlinecolor\":\"#2a3f5f\",\"gridcolor\":\"white\",\"linecolor\":\"white\",\"minorgridcolor\":\"white\",\"startlinecolor\":\"#2a3f5f\"},\"baxis\":{\"endlinecolor\":\"#2a3f5f\",\"gridcolor\":\"white\",\"linecolor\":\"white\",\"minorgridcolor\":\"white\",\"startlinecolor\":\"#2a3f5f\"},\"type\":\"carpet\"}],\"choropleth\":[{\"colorbar\":{\"outlinewidth\":0,\"ticks\":\"\"},\"type\":\"choropleth\"}],\"contour\":[{\"colorbar\":{\"outlinewidth\":0,\"ticks\":\"\"},\"colorscale\":[[0.0,\"#0d0887\"],[0.1111111111111111,\"#46039f\"],[0.2222222222222222,\"#7201a8\"],[0.3333333333333333,\"#9c179e\"],[0.4444444444444444,\"#bd3786\"],[0.5555555555555556,\"#d8576b\"],[0.6666666666666666,\"#ed7953\"],[0.7777777777777778,\"#fb9f3a\"],[0.8888888888888888,\"#fdca26\"],[1.0,\"#f0f921\"]],\"type\":\"contour\"}],\"contourcarpet\":[{\"colorbar\":{\"outlinewidth\":0,\"ticks\":\"\"},\"type\":\"contourcarpet\"}],\"heatmap\":[{\"colorbar\":{\"outlinewidth\":0,\"ticks\":\"\"},\"colorscale\":[[0.0,\"#0d0887\"],[0.1111111111111111,\"#46039f\"],[0.2222222222222222,\"#7201a8\"],[0.3333333333333333,\"#9c179e\"],[0.4444444444444444,\"#bd3786\"],[0.5555555555555556,\"#d8576b\"],[0.6666666666666666,\"#ed7953\"],[0.7777777777777778,\"#fb9f3a\"],[0.8888888888888888,\"#fdca26\"],[1.0,\"#f0f921\"]],\"type\":\"heatmap\"}],\"heatmapgl\":[{\"colorbar\":{\"outlinewidth\":0,\"ticks\":\"\"},\"colorscale\":[[0.0,\"#0d0887\"],[0.1111111111111111,\"#46039f\"],[0.2222222222222222,\"#7201a8\"],[0.3333333333333333,\"#9c179e\"],[0.4444444444444444,\"#bd3786\"],[0.5555555555555556,\"#d8576b\"],[0.6666666666666666,\"#ed7953\"],[0.7777777777777778,\"#fb9f3a\"],[0.8888888888888888,\"#fdca26\"],[1.0,\"#f0f921\"]],\"type\":\"heatmapgl\"}],\"histogram\":[{\"marker\":{\"pattern\":{\"fillmode\":\"overlay\",\"size\":10,\"solidity\":0.2}},\"type\":\"histogram\"}],\"histogram2d\":[{\"colorbar\":{\"outlinewidth\":0,\"ticks\":\"\"},\"colorscale\":[[0.0,\"#0d0887\"],[0.1111111111111111,\"#46039f\"],[0.2222222222222222,\"#7201a8\"],[0.3333333333333333,\"#9c179e\"],[0.4444444444444444,\"#bd3786\"],[0.5555555555555556,\"#d8576b\"],[0.6666666666666666,\"#ed7953\"],[0.7777777777777778,\"#fb9f3a\"],[0.8888888888888888,\"#fdca26\"],[1.0,\"#f0f921\"]],\"type\":\"histogram2d\"}],\"histogram2dcontour\":[{\"colorbar\":{\"outlinewidth\":0,\"ticks\":\"\"},\"colorscale\":[[0.0,\"#0d0887\"],[0.1111111111111111,\"#46039f\"],[0.2222222222222222,\"#7201a8\"],[0.3333333333333333,\"#9c179e\"],[0.4444444444444444,\"#bd3786\"],[0.5555555555555556,\"#d8576b\"],[0.6666666666666666,\"#ed7953\"],[0.7777777777777778,\"#fb9f3a\"],[0.8888888888888888,\"#fdca26\"],[1.0,\"#f0f921\"]],\"type\":\"histogram2dcontour\"}],\"mesh3d\":[{\"colorbar\":{\"outlinewidth\":0,\"ticks\":\"\"},\"type\":\"mesh3d\"}],\"parcoords\":[{\"line\":{\"colorbar\":{\"outlinewidth\":0,\"ticks\":\"\"}},\"type\":\"parcoords\"}],\"pie\":[{\"automargin\":true,\"type\":\"pie\"}],\"scatter\":[{\"marker\":{\"colorbar\":{\"outlinewidth\":0,\"ticks\":\"\"}},\"type\":\"scatter\"}],\"scatter3d\":[{\"line\":{\"colorbar\":{\"outlinewidth\":0,\"ticks\":\"\"}},\"marker\":{\"colorbar\":{\"outlinewidth\":0,\"ticks\":\"\"}},\"type\":\"scatter3d\"}],\"scattercarpet\":[{\"marker\":{\"colorbar\":{\"outlinewidth\":0,\"ticks\":\"\"}},\"type\":\"scattercarpet\"}],\"scattergeo\":[{\"marker\":{\"colorbar\":{\"outlinewidth\":0,\"ticks\":\"\"}},\"type\":\"scattergeo\"}],\"scattergl\":[{\"marker\":{\"colorbar\":{\"outlinewidth\":0,\"ticks\":\"\"}},\"type\":\"scattergl\"}],\"scattermapbox\":[{\"marker\":{\"colorbar\":{\"outlinewidth\":0,\"ticks\":\"\"}},\"type\":\"scattermapbox\"}],\"scatterpolar\":[{\"marker\":{\"colorbar\":{\"outlinewidth\":0,\"ticks\":\"\"}},\"type\":\"scatterpolar\"}],\"scatterpolargl\":[{\"marker\":{\"colorbar\":{\"outlinewidth\":0,\"ticks\":\"\"}},\"type\":\"scatterpolargl\"}],\"scatterternary\":[{\"marker\":{\"colorbar\":{\"outlinewidth\":0,\"ticks\":\"\"}},\"type\":\"scatterternary\"}],\"surface\":[{\"colorbar\":{\"outlinewidth\":0,\"ticks\":\"\"},\"colorscale\":[[0.0,\"#0d0887\"],[0.1111111111111111,\"#46039f\"],[0.2222222222222222,\"#7201a8\"],[0.3333333333333333,\"#9c179e\"],[0.4444444444444444,\"#bd3786\"],[0.5555555555555556,\"#d8576b\"],[0.6666666666666666,\"#ed7953\"],[0.7777777777777778,\"#fb9f3a\"],[0.8888888888888888,\"#fdca26\"],[1.0,\"#f0f921\"]],\"type\":\"surface\"}],\"table\":[{\"cells\":{\"fill\":{\"color\":\"#EBF0F8\"},\"line\":{\"color\":\"white\"}},\"header\":{\"fill\":{\"color\":\"#C8D4E3\"},\"line\":{\"color\":\"white\"}},\"type\":\"table\"}]},\"layout\":{\"annotationdefaults\":{\"arrowcolor\":\"#2a3f5f\",\"arrowhead\":0,\"arrowwidth\":1},\"autotypenumbers\":\"strict\",\"coloraxis\":{\"colorbar\":{\"outlinewidth\":0,\"ticks\":\"\"}},\"colorscale\":{\"diverging\":[[0,\"#8e0152\"],[0.1,\"#c51b7d\"],[0.2,\"#de77ae\"],[0.3,\"#f1b6da\"],[0.4,\"#fde0ef\"],[0.5,\"#f7f7f7\"],[0.6,\"#e6f5d0\"],[0.7,\"#b8e186\"],[0.8,\"#7fbc41\"],[0.9,\"#4d9221\"],[1,\"#276419\"]],\"sequential\":[[0.0,\"#0d0887\"],[0.1111111111111111,\"#46039f\"],[0.2222222222222222,\"#7201a8\"],[0.3333333333333333,\"#9c179e\"],[0.4444444444444444,\"#bd3786\"],[0.5555555555555556,\"#d8576b\"],[0.6666666666666666,\"#ed7953\"],[0.7777777777777778,\"#fb9f3a\"],[0.8888888888888888,\"#fdca26\"],[1.0,\"#f0f921\"]],\"sequentialminus\":[[0.0,\"#0d0887\"],[0.1111111111111111,\"#46039f\"],[0.2222222222222222,\"#7201a8\"],[0.3333333333333333,\"#9c179e\"],[0.4444444444444444,\"#bd3786\"],[0.5555555555555556,\"#d8576b\"],[0.6666666666666666,\"#ed7953\"],[0.7777777777777778,\"#fb9f3a\"],[0.8888888888888888,\"#fdca26\"],[1.0,\"#f0f921\"]]},\"colorway\":[\"#636efa\",\"#EF553B\",\"#00cc96\",\"#ab63fa\",\"#FFA15A\",\"#19d3f3\",\"#FF6692\",\"#B6E880\",\"#FF97FF\",\"#FECB52\"],\"font\":{\"color\":\"#2a3f5f\"},\"geo\":{\"bgcolor\":\"white\",\"lakecolor\":\"white\",\"landcolor\":\"#E5ECF6\",\"showlakes\":true,\"showland\":true,\"subunitcolor\":\"white\"},\"hoverlabel\":{\"align\":\"left\"},\"hovermode\":\"closest\",\"mapbox\":{\"style\":\"light\"},\"paper_bgcolor\":\"white\",\"plot_bgcolor\":\"#E5ECF6\",\"polar\":{\"angularaxis\":{\"gridcolor\":\"white\",\"linecolor\":\"white\",\"ticks\":\"\"},\"bgcolor\":\"#E5ECF6\",\"radialaxis\":{\"gridcolor\":\"white\",\"linecolor\":\"white\",\"ticks\":\"\"}},\"scene\":{\"xaxis\":{\"backgroundcolor\":\"#E5ECF6\",\"gridcolor\":\"white\",\"gridwidth\":2,\"linecolor\":\"white\",\"showbackground\":true,\"ticks\":\"\",\"zerolinecolor\":\"white\"},\"yaxis\":{\"backgroundcolor\":\"#E5ECF6\",\"gridcolor\":\"white\",\"gridwidth\":2,\"linecolor\":\"white\",\"showbackground\":true,\"ticks\":\"\",\"zerolinecolor\":\"white\"},\"zaxis\":{\"backgroundcolor\":\"#E5ECF6\",\"gridcolor\":\"white\",\"gridwidth\":2,\"linecolor\":\"white\",\"showbackground\":true,\"ticks\":\"\",\"zerolinecolor\":\"white\"}},\"shapedefaults\":{\"line\":{\"color\":\"#2a3f5f\"}},\"ternary\":{\"aaxis\":{\"gridcolor\":\"white\",\"linecolor\":\"white\",\"ticks\":\"\"},\"baxis\":{\"gridcolor\":\"white\",\"linecolor\":\"white\",\"ticks\":\"\"},\"bgcolor\":\"#E5ECF6\",\"caxis\":{\"gridcolor\":\"white\",\"linecolor\":\"white\",\"ticks\":\"\"}},\"title\":{\"x\":0.05},\"xaxis\":{\"automargin\":true,\"gridcolor\":\"white\",\"linecolor\":\"white\",\"ticks\":\"\",\"title\":{\"standoff\":15},\"zerolinecolor\":\"white\",\"zerolinewidth\":2},\"yaxis\":{\"automargin\":true,\"gridcolor\":\"white\",\"linecolor\":\"white\",\"ticks\":\"\",\"title\":{\"standoff\":15},\"zerolinecolor\":\"white\",\"zerolinewidth\":2}}}},                        {\"responsive\": true}                    ).then(function(){\n",
       "                            \n",
       "var gd = document.getElementById('925ad2de-0762-472a-9e19-5f76bbbf37c5');\n",
       "var x = new MutationObserver(function (mutations, observer) {{\n",
       "        var display = window.getComputedStyle(gd).display;\n",
       "        if (!display || display === 'none') {{\n",
       "            console.log([gd, 'removed!']);\n",
       "            Plotly.purge(gd);\n",
       "            observer.disconnect();\n",
       "        }}\n",
       "}});\n",
       "\n",
       "// Listen for the removal of the full notebook cells\n",
       "var notebookContainer = gd.closest('#notebook-container');\n",
       "if (notebookContainer) {{\n",
       "    x.observe(notebookContainer, {childList: true});\n",
       "}}\n",
       "\n",
       "// Listen for the clearing of the current output cell\n",
       "var outputEl = gd.closest('.output');\n",
       "if (outputEl) {{\n",
       "    x.observe(outputEl, {childList: true});\n",
       "}}\n",
       "\n",
       "                        })                };                });            </script>        </div>"
      ]
     },
     "metadata": {},
     "output_type": "display_data"
    }
   ],
   "source": [
    "fig = px.scatter_matrix(train, \n",
    "                        dimensions=['bone_length', 'rotting_flesh', 'hair_length', 'has_soul'], \n",
    "                        color='type')\n",
    "fig.show()\n",
    "\n",
    "# hair length and bone length seem to have a relationship, as well as hair length and has soul"
   ]
  },
  {
   "cell_type": "markdown",
   "metadata": {},
   "source": [
    "# Data Prep"
   ]
  },
  {
   "cell_type": "code",
   "execution_count": 156,
   "metadata": {},
   "outputs": [],
   "source": [
    "# Save test id for later\n",
    "test_id = test['id']\n",
    "\n",
    "train.drop(['id'], axis=1, inplace=True)\n",
    "test.drop(['id'], axis=1, inplace=True)"
   ]
  },
  {
   "cell_type": "code",
   "execution_count": 157,
   "metadata": {},
   "outputs": [],
   "source": [
    "col = 'color'\n",
    "\n",
    "dummies = pd.get_dummies(train[col], drop_first=False)\n",
    "dummies = dummies.add_prefix(\"{}_\".format(col))\n",
    "train.drop(col, axis=1, inplace=True)\n",
    "train = train.join(dummies)\n",
    "\n",
    "dummies = pd.get_dummies(test[col], drop_first=False)\n",
    "dummies = dummies.add_prefix(\"{}_\".format(col))\n",
    "test.drop(col, axis=1, inplace=True)\n",
    "test = test.join(dummies)"
   ]
  },
  {
   "cell_type": "code",
   "execution_count": 158,
   "metadata": {},
   "outputs": [
    {
     "data": {
      "application/javascript": [
       "\n",
       "        if (window._pyforest_update_imports_cell) { window._pyforest_update_imports_cell('from sklearn.preprocessing import LabelEncoder\\nfrom sklearn.ensemble import RandomForestClassifier'); }\n",
       "    "
      ],
      "text/plain": [
       "<IPython.core.display.Javascript object>"
      ]
     },
     "metadata": {},
     "output_type": "display_data"
    }
   ],
   "source": [
    "X_train = train.drop('type', axis=1)\n",
    "le = LabelEncoder()\n",
    "y_train = le.fit_transform(train.type.values)\n",
    "X_test = test"
   ]
  },
  {
   "cell_type": "code",
   "execution_count": 159,
   "metadata": {},
   "outputs": [
    {
     "data": {
      "application/javascript": [
       "\n",
       "        if (window._pyforest_update_imports_cell) { window._pyforest_update_imports_cell('from sklearn.preprocessing import LabelEncoder\\nfrom sklearn.ensemble import RandomForestClassifier'); }\n",
       "    "
      ],
      "text/plain": [
       "<IPython.core.display.Javascript object>"
      ]
     },
     "metadata": {},
     "output_type": "display_data"
    },
    {
     "name": "stdout",
     "output_type": "stream",
     "text": [
      "Feature Ranking\n",
      "1. feature 2 hair_length (0.297188)\n",
      "2. feature 3 has_soul (0.269235)\n",
      "3. feature 0 bone_length (0.190779)\n",
      "4. feature 1 rotting_flesh (0.187409)\n",
      "5. feature 7 color_clear (0.012686)\n",
      "6. feature 9 color_white (0.012569)\n",
      "7. feature 4 color_black (0.009953)\n",
      "8. feature 8 color_green (0.009641)\n",
      "9. feature 6 color_blue (0.007077)\n",
      "10. feature 5 color_blood (0.003462)\n"
     ]
    }
   ],
   "source": [
    "clf = RandomForestClassifier(n_estimators = 200)\n",
    "clf = clf.fit(X_train, y_train)\n",
    "indicies = np.argsort(clf.feature_importances_)[::-1]\n",
    "\n",
    "print('Feature Ranking')\n",
    "for i in range(X_train.shape[1]):\n",
    "    print('%d. feature %d %s (%f)' % (i+1, indicies[i], X_train.columns[indicies[i]], clf.feature_importances_[indicies[i]]))"
   ]
  },
  {
   "cell_type": "code",
   "execution_count": 160,
   "metadata": {},
   "outputs": [],
   "source": [
    "best_feat = X_train.columns[indicies[0:4]]\n",
    "\n",
    "X = X_train[best_feat]\n",
    "Xt = X_test[best_feat]"
   ]
  },
  {
   "cell_type": "markdown",
   "metadata": {},
   "source": [
    "# Train the Model"
   ]
  },
  {
   "cell_type": "code",
   "execution_count": 166,
   "metadata": {},
   "outputs": [
    {
     "data": {
      "application/javascript": [
       "\n",
       "        if (window._pyforest_update_imports_cell) { window._pyforest_update_imports_cell('from sklearn.preprocessing import LabelEncoder\\nfrom sklearn.model_selection import train_test_split\\nfrom sklearn.ensemble import RandomForestClassifier'); }\n",
       "    "
      ],
      "text/plain": [
       "<IPython.core.display.Javascript object>"
      ]
     },
     "metadata": {},
     "output_type": "display_data"
    }
   ],
   "source": [
    "Xtrain, Xtest, ytrain, ytest = train_test_split(X, y_train, test_size=0.20, random_state=36)"
   ]
  },
  {
   "cell_type": "code",
   "execution_count": 177,
   "metadata": {},
   "outputs": [
    {
     "name": "stdout",
     "output_type": "stream",
     "text": [
      "Best Score: 0.7464864864864865\n",
      "Best Parameters: {'criterion': 'gini', 'max_depth': None, 'max_features': 'log2', 'max_leaf_nodes': 80, 'min_samples_split': 7, 'min_weight_fraction_leaf': 0.0, 'n_estimators': 20}\n"
     ]
    }
   ],
   "source": [
    "forest = RandomForestClassifier()\n",
    "\n",
    "parameter_grid = {'n_estimators' : [10,20,150], \n",
    "                  'criterion' : ['gini', 'entropy'], \n",
    "                  'max_features' : ['auto', 'sqrt', 'log2'], \n",
    "                  'max_depth' : [None, 5, 100],\n",
    "                  'min_samples_split' : [2, 5, 7],\n",
    "                  'min_weight_fraction_leaf' : [0.0, 0.1],\n",
    "                  'max_leaf_nodes' : [40, 80],\n",
    "                 }\n",
    "\n",
    "grid_search = GridSearchCV(forest, param_grid = parameter_grid, scoring='accuracy', cv=StratifiedKFold(5))\n",
    "grid_search.fit(X, y_train)\n",
    "print('Best Score: {}'.format(grid_search.best_score_))\n",
    "print('Best Parameters: {}'.format(grid_search.best_params_))"
   ]
  },
  {
   "cell_type": "code",
   "execution_count": 188,
   "metadata": {},
   "outputs": [
    {
     "name": "stdout",
     "output_type": "stream",
     "text": [
      "Validation accuracy:  0.72\n"
     ]
    }
   ],
   "source": [
    "clf = RandomForestClassifier(n_estimators = 20, \n",
    "                  criterion = 'gini', \n",
    "                  max_features = 'log2', \n",
    "                  max_depth = None,\n",
    "                  min_samples_split = 7,\n",
    "                  min_weight_fraction_leaf = 0.0,\n",
    "                  max_leaf_nodes = 80)\n",
    "\n",
    "calibrated_clf = CalibratedClassifierCV(clf, method='sigmoid', cv=5)\n",
    "calibrated_clf.fit(Xtrain, ytrain)\n",
    "y_val = calibrated_clf.predict_proba(Xtest)\n",
    "\n",
    "print(\"Validation accuracy: \", sum(pd.DataFrame(y_val, columns=le.classes_).idxmax(axis=1).values\n",
    "                                   == le.inverse_transform(ytest))/len(ytest))"
   ]
  },
  {
   "cell_type": "code",
   "execution_count": 189,
   "metadata": {},
   "outputs": [
    {
     "name": "stdout",
     "output_type": "stream",
     "text": [
      "Validation accuracy:  0.7466666666666667\n"
     ]
    }
   ],
   "source": [
    "svc = svm.SVC(kernel='linear')\n",
    "svc.fit(Xtrain, ytrain)\n",
    "y_val_s = svc.predict(Xtest)\n",
    "print(\"Validation accuracy: \", sum(le.inverse_transform(y_val_s) == le.inverse_transform(ytest))/len(ytest))"
   ]
  },
  {
   "cell_type": "code",
   "execution_count": 190,
   "metadata": {},
   "outputs": [
    {
     "name": "stdout",
     "output_type": "stream",
     "text": [
      "Best score: 0.7632768361581921\n",
      "Best parameters: {'C': 1, 'multi_class': 'multinomial', 'solver': 'newton-cg', 'tol': 0.0001}\n"
     ]
    }
   ],
   "source": [
    "#The last model is logistic regression\n",
    "logreg = LogisticRegression()\n",
    "\n",
    "parameter_grid = {'solver' : ['newton-cg', 'lbfgs'],\n",
    "                  'multi_class' : ['ovr', 'multinomial'],\n",
    "                  'C' : [0.005, 0.01, 1, 10, 100, 1000],\n",
    "                  'tol': [0.0001, 0.001, 0.005]\n",
    "                 }\n",
    "\n",
    "grid_search = GridSearchCV(logreg, param_grid=parameter_grid, cv=StratifiedKFold(5))\n",
    "grid_search.fit(Xtrain, ytrain)\n",
    "print('Best score: {}'.format(grid_search.best_score_))\n",
    "print('Best parameters: {}'.format(grid_search.best_params_))"
   ]
  },
  {
   "cell_type": "code",
   "execution_count": 191,
   "metadata": {},
   "outputs": [
    {
     "name": "stdout",
     "output_type": "stream",
     "text": [
      "Validation accuracy:  0.76\n"
     ]
    }
   ],
   "source": [
    "log_reg = LogisticRegression(C = 1, tol = 0.0001, solver='newton-cg', multi_class='multinomial')\n",
    "log_reg.fit(Xtrain, ytrain)\n",
    "y_val_l = log_reg.predict_proba(Xtest)\n",
    "print(\"Validation accuracy: \", sum(pd.DataFrame(y_val_l, columns=le.classes_).idxmax(axis=1).values\n",
    "                              == le.inverse_transform(ytest))/len(ytest))\n"
   ]
  },
  {
   "cell_type": "code",
   "execution_count": 192,
   "metadata": {},
   "outputs": [],
   "source": [
    "clf = RandomForestClassifier(n_estimators=20, n_jobs=-1, criterion = 'gini', max_features = 'sqrt',\n",
    "                             min_samples_split=2, min_weight_fraction_leaf=0.0,\n",
    "                             max_leaf_nodes=40, max_depth=100)\n",
    "\n",
    "calibrated_clf = CalibratedClassifierCV(clf, method='sigmoid', cv=5)\n",
    "log_reg = LogisticRegression(C = 1, tol = 0.0001, solver='newton-cg', multi_class='multinomial')\n",
    "gnb = GaussianNB()"
   ]
  },
  {
   "cell_type": "code",
   "execution_count": 193,
   "metadata": {},
   "outputs": [],
   "source": [
    "calibrated_clf1 = CalibratedClassifierCV(RandomForestClassifier())\n",
    "log_reg1 = LogisticRegression()\n",
    "gnb1 = GaussianNB()"
   ]
  },
  {
   "cell_type": "code",
   "execution_count": 194,
   "metadata": {},
   "outputs": [],
   "source": [
    "Vclf1 = VotingClassifier(estimators=[('LR', log_reg1), ('CRF', calibrated_clf1),\n",
    "                                     ('GNB', gnb1)], voting='hard')\n",
    "Vclf = VotingClassifier(estimators=[('LR', log_reg), ('CRF', calibrated_clf),\n",
    "                                     ('GNB', gnb)], voting='soft', weights=[1,1,1])"
   ]
  },
  {
   "cell_type": "code",
   "execution_count": 196,
   "metadata": {},
   "outputs": [],
   "source": [
    "hard_predict = le.inverse_transform(Vclf1.fit(X, y_train).predict(Xt))\n",
    "soft_predict = le.inverse_transform(Vclf.fit(X, y_train).predict(Xt))"
   ]
  },
  {
   "cell_type": "code",
   "execution_count": 197,
   "metadata": {
    "scrolled": true
   },
   "outputs": [
    {
     "name": "stdout",
     "output_type": "stream",
     "text": [
      "24 Ghoul Goblin\n",
      "57 Ghoul Goblin\n",
      "76 Ghoul Goblin\n",
      "100 Ghoul Goblin\n",
      "102 Ghoul Goblin\n",
      "120 Ghoul Goblin\n",
      "134 Ghost Goblin\n",
      "150 Ghoul Goblin\n",
      "162 Goblin Ghoul\n",
      "204 Ghoul Goblin\n",
      "238 Goblin Ghoul\n",
      "258 Goblin Ghost\n",
      "293 Ghoul Goblin\n",
      "342 Ghoul Goblin\n",
      "347 Ghoul Goblin\n",
      "367 Ghoul Goblin\n",
      "390 Ghoul Goblin\n",
      "452 Ghoul Goblin\n",
      "453 Ghoul Goblin\n"
     ]
    }
   ],
   "source": [
    "#Let's see the differences:\n",
    "for i in range(len(hard_predict)):\n",
    "    if hard_predict[i] != soft_predict[i]:\n",
    "        print(i, hard_predict[i], soft_predict[i])"
   ]
  }
 ],
 "metadata": {
  "kernelspec": {
   "display_name": "Python 3",
   "language": "python",
   "name": "python3"
  },
  "language_info": {
   "codemirror_mode": {
    "name": "ipython",
    "version": 3
   },
   "file_extension": ".py",
   "mimetype": "text/x-python",
   "name": "python",
   "nbconvert_exporter": "python",
   "pygments_lexer": "ipython3",
   "version": "3.7.6"
  }
 },
 "nbformat": 4,
 "nbformat_minor": 4
}
